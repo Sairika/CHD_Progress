{
 "cells": [
  {
   "cell_type": "markdown",
   "id": "1c00522f",
   "metadata": {
    "papermill": {
     "duration": 0.014381,
     "end_time": "2023-03-12T16:30:20.901904",
     "exception": false,
     "start_time": "2023-03-12T16:30:20.887523",
     "status": "completed"
    },
    "tags": []
   },
   "source": [
    "<br>\n",
    "<br>\n",
    "<h2 style = \"font-family: garamond; font-size: 40px; font-style: normal; letter-spcaing: 3px; background-color:#1DA1F2 ; color :#FFFFFF; border-radius: 5px 5px; padding:10px;text-align:center; font-weight: bold\">Let's Detect Parkinson's Disease using Data Science </h2> \n",
    "<br> \n",
    "<br>\n",
    "\n",
    "<div class=\"Column\">\n",
    "  <div class=\"row\">\n",
    "    <img src=\"https://images.everydayhealth.com/images/neurology/parkinsons-disease/recognizing-the-progression-of-parkinsons-722x406.jpg\" alt=\"Snow\" style=\"width:100%\">\n",
    "  </div>"
   ]
  },
  {
   "cell_type": "markdown",
   "id": "81b393ac",
   "metadata": {
    "papermill": {
     "duration": 0.012222,
     "end_time": "2023-03-12T16:30:20.927217",
     "exception": false,
     "start_time": "2023-03-12T16:30:20.914995",
     "status": "completed"
    },
    "tags": []
   },
   "source": [
    "<font size=\"3\"><font style=\"font-family:Georgia\">Parkinson's is a neurodegenarative progressive disorder disease. It affects the nervous system and the part of the body controlled by it. It appears in the part of the brain called substantia nigra. Normally these brain cells produce dopamine and these dopamine operates in a delicate balance with other neurotransmitters to help cordinate the millions of nerve and muscle cell involved in the movement. When these nerve cells die or become impaired, they lose the ability to produce the dopamine. When 60-80% of these cells are lost then enough dopamine are not produced and Parkinson's motor symptoms appear. Without enough dopamine, this balance is disrupted resulting tremor, rigidity, slowness of movement and impaired balance. So Parkinson's disease is caused by the disruption of the brain cells that produce the dopamine which allows the brain to communicate each other and control the fluency of the movement. It is thought that the disease begins many years before the motor symptoms appears and therefore, researchers are looking for ways to recognize the non-motor symptoms that appear early in the disease as early as possible, thereby halting the progression of the disease. A person suffering from the Parkinson's can have following symptoms:<font>\n",
    "\n",
    "* <font size='2'><font style=\"font-family:Georgia\"><strong>*Tremor*</strong></font>\n",
    "* <font size='2'><font style=\"font-family:Georgia\"><strong>*Slowed movement*</strong></font>\n",
    "* <font size='2'><font style=\"font-family:Georgia\"><strong>*Rigid muscle*</strong></font>\n",
    "* <font size='2'><font style=\"font-family:Georgia\"><strong>*Impaired posture*</strong></font>\n",
    "* <font size='2'><font style=\"font-family:Georgia\"><strong>*Loss of automatic movement*</strong></font>\n",
    "* <font size='2'><font style=\"font-family:Georgia\"><strong>*Speech change*</strong></font>\n",
    "* <font size='2'><font style=\"font-family:Georgia\"><strong>*Writing change*</strong></font>\n",
    "* <font size='2'><font style=\"font-family:Georgia\"><strong>*Impaired posture*</strong></font>\n",
    "\n",
    "<font size='3'><font style=\"font-family:Georgia\">Also, Parkinson's disease can have other symptoms that include:</font>\n",
    "\n",
    "* <font size='2'><font style=\"font-family:Georgia\"><strong>*Depression*</strong></font>\n",
    "* <font size='2'><font style=\"font-family:Georgia\"><strong>*Anxiety*</strong></font>\n",
    "* <font size='2'><font style=\"font-family:Georgia\"><strong>*Sleeping and memory-related issues*</strong></font>\n",
    "* <font size='2'><font style=\"font-family:Georgia\"><strong>*Loss of sense of smell along with balance problems*</strong></font>\n",
    "    \n",
    "<font size='3'><font style=\"font-family:Georgia\">The symptoms of Parkinson's disease can be different from patient to pateint. Early sign of the disease can be mild and can go unnoticed. Symptoms often begin on one side of your body and usually remain worse on that side. Sometimes it is difficult to detect whether there is Parkinson's disease present in the patient's body. Parkinson's disease if detected in the early stage will be curable, and will be time and cost effective, but there is no effective treatment in the advanced stage.</font>\n",
    "    \n",
    "<font size='3'><font style=\"font-family:Georgia\"> The dataset used in this project is from <a href=\"https://www.kaggle.com/datasets/vikasukani/parkinsons-disease-data-set\"><strong>Kaggle data bank</strong></a>. The dataset has 24 columns, thus we need to reduce the dimension before we train the data. The target or independent variable is \"status\" with binary values of 0 and 1. Status values for healthy person and PD person are 0 and 1 respectively. This is a classification probelm. The goal of this project is to develope the best machine learning model to predict the Parkinson's disease so that we can treat the patient in the timely manner. The following are the columns in the dataset.</font>\n",
    "    \n",
    "     \n",
    "* <font size='3'><font style=\"font-family:Georgia\"><strong>*name* - </strong>ASCII <font size='3'>subject name and recording number</font>    \n",
    "* <font size='2'><font style=\"font-family:Georgia\"><strong>*MDVP:Fo(Hz)* - </strong><font size='3'>Average vocal fundamental frequency</font>      \n",
    "* <font size='2'><font style=\"font-family:Georgia\"><strong>*MDVP:Fhi(Hz)* - </strong><font size='3'>Maximum vocal fundamental frequency </font>     \n",
    "* <font size='2'><font style=\"font-family:Georgia\"><strong>*MDVP:Flo(Hz)* - </strong><font size='3'>Minimum vocal fundamental frequency </font>     \n",
    "* <font size='2'><font style=\"font-family:Georgia\"><strong>*MDVP:Jitter(%)*</strong>,\n",
    "* <font size='2'><font style=\"font-family:Georgia\"><strong>*MDVP:Jitter(Abs)*</strong>,\n",
    "* <font size='2'><font style=\"font-family:Georgia\"><strong>*MDVP:RAP*</strong>,\n",
    "* <font size='2'><font style=\"font-family:Georgia\"><strong>*MDVP:PPQ*</strong>,\n",
    "* <font size='2'><font style=\"font-family:Georgia\"><strong>*Jitter:DDP* - </strong><font size='3'>Several measures of variation in fundamental frequency</font>  \n",
    "* <font size='2'><font style=\"font-family:Georgia\"><strong>*MDVP:Shimmer*</strong></font>,\n",
    "* <font size='2'><font style=\"font-family:Georgia\"><strong>*MDVP:Shimmer(dB)*</strong></font>,\n",
    "* <font size='2'><font style=\"font-family:Georgia\"><strong>*Shimmer:APQ3*</strong></font>,\n",
    "* <font size='2'><font style=\"font-family:Georgia\"><strong>*Shimmer:APQ5*</strong></font>,\n",
    "* <font size='2'><font style=\"font-family:Georgia\"><strong>*MDVP:APQ*</strong></font>,\n",
    "* <font size='2'><font style=\"font-family:Georgia\"><strong>*Shimmer:DDA -* </strong><font size='3'>Several measures of variation in amplitude</font>  \n",
    "* <font size='2'><font style=\"font-family:Georgia\"><strong>*NHR*</strong>,\n",
    "* <font size='2'><font style=\"font-family:Georgia\"><strong>*HNR -* </strong><font size='3'>Two measures of ratio of noise to tonal components in the voice</font>  \n",
    "* <font size='2'><font style=\"font-family:Georgia\"><strong>*status -* </strong><font size='3'>Health status of the subject (one) - Parkinson's, (zero) - healthy</font>  \n",
    "* <font size='2'><font style=\"font-family:Georgia\"><strong>*RPDE*</strong></font>,\n",
    "*<font size='2'><font style=\"font-family:Georgia\"><strong>*D2 -*</strong><font size='3'>Two nonlinear dynamical complexity measures</font>  \n",
    "* <font size='2'><font style=\"font-family:Georgia\"><strong>*DFA -* </strong><font size='3'>Signal fractal scaling exponent</font>  \n",
    "* <font size='2'><font style=\"font-family:Georgia\"><strong>*spread1,spread2,PPE -* </strong><font size='3'>Three nonlinear measures of fundamental frequency variation</font> \n",
    "    "
   ]
  },
  {
   "cell_type": "code",
   "execution_count": 1,
   "id": "fa8eb913",
   "metadata": {
    "execution": {
     "iopub.execute_input": "2023-03-12T16:30:20.954898Z",
     "iopub.status.busy": "2023-03-12T16:30:20.954085Z",
     "iopub.status.idle": "2023-03-12T16:30:22.336626Z",
     "shell.execute_reply": "2023-03-12T16:30:22.335561Z"
    },
    "papermill": {
     "duration": 1.399737,
     "end_time": "2023-03-12T16:30:22.339533",
     "exception": false,
     "start_time": "2023-03-12T16:30:20.939796",
     "status": "completed"
    },
    "tags": []
   },
   "outputs": [],
   "source": [
    "# This Python 3 environment comes with many helpful analytics libraries installed\n",
    "# It is defined by the kaggle/python Docker image: https://github.com/kaggle/docker-python\n",
    "# For example, here's several helpful packages to load\n",
    "\n",
    "import numpy as np\n",
    "import pandas as pd\n",
    "import matplotlib.pyplot as plt\n",
    "import seaborn as sns\n",
    "\n",
    "\n",
    "from sklearn.preprocessing import MinMaxScaler\n",
    "from sklearn.metrics import confusion_matrix,accuracy_score, classification_report\n",
    "\n",
    "from xgboost import XGBClassifier"
   ]
  },
  {
   "cell_type": "code",
   "execution_count": 2,
   "id": "d9dd1f52",
   "metadata": {
    "execution": {
     "iopub.execute_input": "2023-03-12T16:30:22.367072Z",
     "iopub.status.busy": "2023-03-12T16:30:22.366604Z",
     "iopub.status.idle": "2023-03-12T16:30:22.376924Z",
     "shell.execute_reply": "2023-03-12T16:30:22.375642Z"
    },
    "papermill": {
     "duration": 0.027239,
     "end_time": "2023-03-12T16:30:22.379576",
     "exception": false,
     "start_time": "2023-03-12T16:30:22.352337",
     "status": "completed"
    },
    "tags": []
   },
   "outputs": [
    {
     "name": "stdout",
     "output_type": "stream",
     "text": [
      "../input/parkinsons-disease-data-set/parkinsons.data\n"
     ]
    }
   ],
   "source": [
    "import os\n",
    "for dirname, _, filenames in os.walk('../input/parkinsons-disease-data-set'):\n",
    "    for filename in filenames:\n",
    "        print(os.path.join(dirname, filename))"
   ]
  },
  {
   "cell_type": "markdown",
   "id": "fe676995",
   "metadata": {
    "papermill": {
     "duration": 0.014349,
     "end_time": "2023-03-12T16:30:22.406566",
     "exception": false,
     "start_time": "2023-03-12T16:30:22.392217",
     "status": "completed"
    },
    "tags": []
   },
   "source": [
    "# Read the data"
   ]
  },
  {
   "cell_type": "code",
   "execution_count": 3,
   "id": "a21ed9db",
   "metadata": {
    "execution": {
     "iopub.execute_input": "2023-03-12T16:30:22.434232Z",
     "iopub.status.busy": "2023-03-12T16:30:22.433426Z",
     "iopub.status.idle": "2023-03-12T16:30:22.489312Z",
     "shell.execute_reply": "2023-03-12T16:30:22.487790Z"
    },
    "papermill": {
     "duration": 0.073819,
     "end_time": "2023-03-12T16:30:22.492975",
     "exception": false,
     "start_time": "2023-03-12T16:30:22.419156",
     "status": "completed"
    },
    "tags": []
   },
   "outputs": [
    {
     "name": "stdout",
     "output_type": "stream",
     "text": [
      "(195, 24) \n",
      "\n"
     ]
    },
    {
     "data": {
      "text/html": [
       "<div>\n",
       "<style scoped>\n",
       "    .dataframe tbody tr th:only-of-type {\n",
       "        vertical-align: middle;\n",
       "    }\n",
       "\n",
       "    .dataframe tbody tr th {\n",
       "        vertical-align: top;\n",
       "    }\n",
       "\n",
       "    .dataframe thead th {\n",
       "        text-align: right;\n",
       "    }\n",
       "</style>\n",
       "<table border=\"1\" class=\"dataframe\">\n",
       "  <thead>\n",
       "    <tr style=\"text-align: right;\">\n",
       "      <th></th>\n",
       "      <th>name</th>\n",
       "      <th>MDVP:Fo(Hz)</th>\n",
       "      <th>MDVP:Fhi(Hz)</th>\n",
       "      <th>MDVP:Flo(Hz)</th>\n",
       "      <th>MDVP:Jitter(%)</th>\n",
       "      <th>MDVP:Jitter(Abs)</th>\n",
       "      <th>MDVP:RAP</th>\n",
       "      <th>MDVP:PPQ</th>\n",
       "      <th>Jitter:DDP</th>\n",
       "      <th>MDVP:Shimmer</th>\n",
       "      <th>...</th>\n",
       "      <th>Shimmer:DDA</th>\n",
       "      <th>NHR</th>\n",
       "      <th>HNR</th>\n",
       "      <th>status</th>\n",
       "      <th>RPDE</th>\n",
       "      <th>DFA</th>\n",
       "      <th>spread1</th>\n",
       "      <th>spread2</th>\n",
       "      <th>D2</th>\n",
       "      <th>PPE</th>\n",
       "    </tr>\n",
       "  </thead>\n",
       "  <tbody>\n",
       "    <tr>\n",
       "      <th>0</th>\n",
       "      <td>phon_R01_S01_1</td>\n",
       "      <td>119.992</td>\n",
       "      <td>157.302</td>\n",
       "      <td>74.997</td>\n",
       "      <td>0.00784</td>\n",
       "      <td>0.00007</td>\n",
       "      <td>0.00370</td>\n",
       "      <td>0.00554</td>\n",
       "      <td>0.01109</td>\n",
       "      <td>0.04374</td>\n",
       "      <td>...</td>\n",
       "      <td>0.06545</td>\n",
       "      <td>0.02211</td>\n",
       "      <td>21.033</td>\n",
       "      <td>1</td>\n",
       "      <td>0.414783</td>\n",
       "      <td>0.815285</td>\n",
       "      <td>-4.813031</td>\n",
       "      <td>0.266482</td>\n",
       "      <td>2.301442</td>\n",
       "      <td>0.284654</td>\n",
       "    </tr>\n",
       "    <tr>\n",
       "      <th>1</th>\n",
       "      <td>phon_R01_S01_2</td>\n",
       "      <td>122.400</td>\n",
       "      <td>148.650</td>\n",
       "      <td>113.819</td>\n",
       "      <td>0.00968</td>\n",
       "      <td>0.00008</td>\n",
       "      <td>0.00465</td>\n",
       "      <td>0.00696</td>\n",
       "      <td>0.01394</td>\n",
       "      <td>0.06134</td>\n",
       "      <td>...</td>\n",
       "      <td>0.09403</td>\n",
       "      <td>0.01929</td>\n",
       "      <td>19.085</td>\n",
       "      <td>1</td>\n",
       "      <td>0.458359</td>\n",
       "      <td>0.819521</td>\n",
       "      <td>-4.075192</td>\n",
       "      <td>0.335590</td>\n",
       "      <td>2.486855</td>\n",
       "      <td>0.368674</td>\n",
       "    </tr>\n",
       "    <tr>\n",
       "      <th>2</th>\n",
       "      <td>phon_R01_S01_3</td>\n",
       "      <td>116.682</td>\n",
       "      <td>131.111</td>\n",
       "      <td>111.555</td>\n",
       "      <td>0.01050</td>\n",
       "      <td>0.00009</td>\n",
       "      <td>0.00544</td>\n",
       "      <td>0.00781</td>\n",
       "      <td>0.01633</td>\n",
       "      <td>0.05233</td>\n",
       "      <td>...</td>\n",
       "      <td>0.08270</td>\n",
       "      <td>0.01309</td>\n",
       "      <td>20.651</td>\n",
       "      <td>1</td>\n",
       "      <td>0.429895</td>\n",
       "      <td>0.825288</td>\n",
       "      <td>-4.443179</td>\n",
       "      <td>0.311173</td>\n",
       "      <td>2.342259</td>\n",
       "      <td>0.332634</td>\n",
       "    </tr>\n",
       "    <tr>\n",
       "      <th>3</th>\n",
       "      <td>phon_R01_S01_4</td>\n",
       "      <td>116.676</td>\n",
       "      <td>137.871</td>\n",
       "      <td>111.366</td>\n",
       "      <td>0.00997</td>\n",
       "      <td>0.00009</td>\n",
       "      <td>0.00502</td>\n",
       "      <td>0.00698</td>\n",
       "      <td>0.01505</td>\n",
       "      <td>0.05492</td>\n",
       "      <td>...</td>\n",
       "      <td>0.08771</td>\n",
       "      <td>0.01353</td>\n",
       "      <td>20.644</td>\n",
       "      <td>1</td>\n",
       "      <td>0.434969</td>\n",
       "      <td>0.819235</td>\n",
       "      <td>-4.117501</td>\n",
       "      <td>0.334147</td>\n",
       "      <td>2.405554</td>\n",
       "      <td>0.368975</td>\n",
       "    </tr>\n",
       "    <tr>\n",
       "      <th>4</th>\n",
       "      <td>phon_R01_S01_5</td>\n",
       "      <td>116.014</td>\n",
       "      <td>141.781</td>\n",
       "      <td>110.655</td>\n",
       "      <td>0.01284</td>\n",
       "      <td>0.00011</td>\n",
       "      <td>0.00655</td>\n",
       "      <td>0.00908</td>\n",
       "      <td>0.01966</td>\n",
       "      <td>0.06425</td>\n",
       "      <td>...</td>\n",
       "      <td>0.10470</td>\n",
       "      <td>0.01767</td>\n",
       "      <td>19.649</td>\n",
       "      <td>1</td>\n",
       "      <td>0.417356</td>\n",
       "      <td>0.823484</td>\n",
       "      <td>-3.747787</td>\n",
       "      <td>0.234513</td>\n",
       "      <td>2.332180</td>\n",
       "      <td>0.410335</td>\n",
       "    </tr>\n",
       "  </tbody>\n",
       "</table>\n",
       "<p>5 rows × 24 columns</p>\n",
       "</div>"
      ],
      "text/plain": [
       "             name  MDVP:Fo(Hz)  MDVP:Fhi(Hz)  MDVP:Flo(Hz)  MDVP:Jitter(%)  \\\n",
       "0  phon_R01_S01_1      119.992       157.302        74.997         0.00784   \n",
       "1  phon_R01_S01_2      122.400       148.650       113.819         0.00968   \n",
       "2  phon_R01_S01_3      116.682       131.111       111.555         0.01050   \n",
       "3  phon_R01_S01_4      116.676       137.871       111.366         0.00997   \n",
       "4  phon_R01_S01_5      116.014       141.781       110.655         0.01284   \n",
       "\n",
       "   MDVP:Jitter(Abs)  MDVP:RAP  MDVP:PPQ  Jitter:DDP  MDVP:Shimmer  ...  \\\n",
       "0           0.00007   0.00370   0.00554     0.01109       0.04374  ...   \n",
       "1           0.00008   0.00465   0.00696     0.01394       0.06134  ...   \n",
       "2           0.00009   0.00544   0.00781     0.01633       0.05233  ...   \n",
       "3           0.00009   0.00502   0.00698     0.01505       0.05492  ...   \n",
       "4           0.00011   0.00655   0.00908     0.01966       0.06425  ...   \n",
       "\n",
       "   Shimmer:DDA      NHR     HNR  status      RPDE       DFA   spread1  \\\n",
       "0      0.06545  0.02211  21.033       1  0.414783  0.815285 -4.813031   \n",
       "1      0.09403  0.01929  19.085       1  0.458359  0.819521 -4.075192   \n",
       "2      0.08270  0.01309  20.651       1  0.429895  0.825288 -4.443179   \n",
       "3      0.08771  0.01353  20.644       1  0.434969  0.819235 -4.117501   \n",
       "4      0.10470  0.01767  19.649       1  0.417356  0.823484 -3.747787   \n",
       "\n",
       "    spread2        D2       PPE  \n",
       "0  0.266482  2.301442  0.284654  \n",
       "1  0.335590  2.486855  0.368674  \n",
       "2  0.311173  2.342259  0.332634  \n",
       "3  0.334147  2.405554  0.368975  \n",
       "4  0.234513  2.332180  0.410335  \n",
       "\n",
       "[5 rows x 24 columns]"
      ]
     },
     "execution_count": 3,
     "metadata": {},
     "output_type": "execute_result"
    }
   ],
   "source": [
    "#  let’s read the data into a DataFrame \n",
    "\n",
    "#Read the data\n",
    "df=pd.read_csv('../input/parkinsons-disease-data-set/parkinsons.data')\n",
    "print(df.shape,'\\n')\n",
    "df.head()"
   ]
  },
  {
   "cell_type": "code",
   "execution_count": 4,
   "id": "658d4e7f",
   "metadata": {
    "execution": {
     "iopub.execute_input": "2023-03-12T16:30:22.521899Z",
     "iopub.status.busy": "2023-03-12T16:30:22.521424Z",
     "iopub.status.idle": "2023-03-12T16:30:22.613006Z",
     "shell.execute_reply": "2023-03-12T16:30:22.611594Z"
    },
    "papermill": {
     "duration": 0.109298,
     "end_time": "2023-03-12T16:30:22.615533",
     "exception": false,
     "start_time": "2023-03-12T16:30:22.506235",
     "status": "completed"
    },
    "tags": []
   },
   "outputs": [
    {
     "data": {
      "text/html": [
       "<div>\n",
       "<style scoped>\n",
       "    .dataframe tbody tr th:only-of-type {\n",
       "        vertical-align: middle;\n",
       "    }\n",
       "\n",
       "    .dataframe tbody tr th {\n",
       "        vertical-align: top;\n",
       "    }\n",
       "\n",
       "    .dataframe thead th {\n",
       "        text-align: right;\n",
       "    }\n",
       "</style>\n",
       "<table border=\"1\" class=\"dataframe\">\n",
       "  <thead>\n",
       "    <tr style=\"text-align: right;\">\n",
       "      <th></th>\n",
       "      <th>MDVP:Fo(Hz)</th>\n",
       "      <th>MDVP:Fhi(Hz)</th>\n",
       "      <th>MDVP:Flo(Hz)</th>\n",
       "      <th>MDVP:Jitter(%)</th>\n",
       "      <th>MDVP:Jitter(Abs)</th>\n",
       "      <th>MDVP:RAP</th>\n",
       "      <th>MDVP:PPQ</th>\n",
       "      <th>Jitter:DDP</th>\n",
       "      <th>MDVP:Shimmer</th>\n",
       "      <th>MDVP:Shimmer(dB)</th>\n",
       "      <th>...</th>\n",
       "      <th>Shimmer:DDA</th>\n",
       "      <th>NHR</th>\n",
       "      <th>HNR</th>\n",
       "      <th>status</th>\n",
       "      <th>RPDE</th>\n",
       "      <th>DFA</th>\n",
       "      <th>spread1</th>\n",
       "      <th>spread2</th>\n",
       "      <th>D2</th>\n",
       "      <th>PPE</th>\n",
       "    </tr>\n",
       "  </thead>\n",
       "  <tbody>\n",
       "    <tr>\n",
       "      <th>count</th>\n",
       "      <td>195.000000</td>\n",
       "      <td>195.000000</td>\n",
       "      <td>195.000000</td>\n",
       "      <td>195.000000</td>\n",
       "      <td>195.000000</td>\n",
       "      <td>195.000000</td>\n",
       "      <td>195.000000</td>\n",
       "      <td>195.000000</td>\n",
       "      <td>195.000000</td>\n",
       "      <td>195.000000</td>\n",
       "      <td>...</td>\n",
       "      <td>195.000000</td>\n",
       "      <td>195.000000</td>\n",
       "      <td>195.000000</td>\n",
       "      <td>195.000000</td>\n",
       "      <td>195.000000</td>\n",
       "      <td>195.000000</td>\n",
       "      <td>195.000000</td>\n",
       "      <td>195.000000</td>\n",
       "      <td>195.000000</td>\n",
       "      <td>195.000000</td>\n",
       "    </tr>\n",
       "    <tr>\n",
       "      <th>mean</th>\n",
       "      <td>154.228641</td>\n",
       "      <td>197.104918</td>\n",
       "      <td>116.324631</td>\n",
       "      <td>0.006220</td>\n",
       "      <td>0.000044</td>\n",
       "      <td>0.003306</td>\n",
       "      <td>0.003446</td>\n",
       "      <td>0.009920</td>\n",
       "      <td>0.029709</td>\n",
       "      <td>0.282251</td>\n",
       "      <td>...</td>\n",
       "      <td>0.046993</td>\n",
       "      <td>0.024847</td>\n",
       "      <td>21.885974</td>\n",
       "      <td>0.753846</td>\n",
       "      <td>0.498536</td>\n",
       "      <td>0.718099</td>\n",
       "      <td>-5.684397</td>\n",
       "      <td>0.226510</td>\n",
       "      <td>2.381826</td>\n",
       "      <td>0.206552</td>\n",
       "    </tr>\n",
       "    <tr>\n",
       "      <th>std</th>\n",
       "      <td>41.390065</td>\n",
       "      <td>91.491548</td>\n",
       "      <td>43.521413</td>\n",
       "      <td>0.004848</td>\n",
       "      <td>0.000035</td>\n",
       "      <td>0.002968</td>\n",
       "      <td>0.002759</td>\n",
       "      <td>0.008903</td>\n",
       "      <td>0.018857</td>\n",
       "      <td>0.194877</td>\n",
       "      <td>...</td>\n",
       "      <td>0.030459</td>\n",
       "      <td>0.040418</td>\n",
       "      <td>4.425764</td>\n",
       "      <td>0.431878</td>\n",
       "      <td>0.103942</td>\n",
       "      <td>0.055336</td>\n",
       "      <td>1.090208</td>\n",
       "      <td>0.083406</td>\n",
       "      <td>0.382799</td>\n",
       "      <td>0.090119</td>\n",
       "    </tr>\n",
       "    <tr>\n",
       "      <th>min</th>\n",
       "      <td>88.333000</td>\n",
       "      <td>102.145000</td>\n",
       "      <td>65.476000</td>\n",
       "      <td>0.001680</td>\n",
       "      <td>0.000007</td>\n",
       "      <td>0.000680</td>\n",
       "      <td>0.000920</td>\n",
       "      <td>0.002040</td>\n",
       "      <td>0.009540</td>\n",
       "      <td>0.085000</td>\n",
       "      <td>...</td>\n",
       "      <td>0.013640</td>\n",
       "      <td>0.000650</td>\n",
       "      <td>8.441000</td>\n",
       "      <td>0.000000</td>\n",
       "      <td>0.256570</td>\n",
       "      <td>0.574282</td>\n",
       "      <td>-7.964984</td>\n",
       "      <td>0.006274</td>\n",
       "      <td>1.423287</td>\n",
       "      <td>0.044539</td>\n",
       "    </tr>\n",
       "    <tr>\n",
       "      <th>25%</th>\n",
       "      <td>117.572000</td>\n",
       "      <td>134.862500</td>\n",
       "      <td>84.291000</td>\n",
       "      <td>0.003460</td>\n",
       "      <td>0.000020</td>\n",
       "      <td>0.001660</td>\n",
       "      <td>0.001860</td>\n",
       "      <td>0.004985</td>\n",
       "      <td>0.016505</td>\n",
       "      <td>0.148500</td>\n",
       "      <td>...</td>\n",
       "      <td>0.024735</td>\n",
       "      <td>0.005925</td>\n",
       "      <td>19.198000</td>\n",
       "      <td>1.000000</td>\n",
       "      <td>0.421306</td>\n",
       "      <td>0.674758</td>\n",
       "      <td>-6.450096</td>\n",
       "      <td>0.174351</td>\n",
       "      <td>2.099125</td>\n",
       "      <td>0.137451</td>\n",
       "    </tr>\n",
       "    <tr>\n",
       "      <th>50%</th>\n",
       "      <td>148.790000</td>\n",
       "      <td>175.829000</td>\n",
       "      <td>104.315000</td>\n",
       "      <td>0.004940</td>\n",
       "      <td>0.000030</td>\n",
       "      <td>0.002500</td>\n",
       "      <td>0.002690</td>\n",
       "      <td>0.007490</td>\n",
       "      <td>0.022970</td>\n",
       "      <td>0.221000</td>\n",
       "      <td>...</td>\n",
       "      <td>0.038360</td>\n",
       "      <td>0.011660</td>\n",
       "      <td>22.085000</td>\n",
       "      <td>1.000000</td>\n",
       "      <td>0.495954</td>\n",
       "      <td>0.722254</td>\n",
       "      <td>-5.720868</td>\n",
       "      <td>0.218885</td>\n",
       "      <td>2.361532</td>\n",
       "      <td>0.194052</td>\n",
       "    </tr>\n",
       "    <tr>\n",
       "      <th>75%</th>\n",
       "      <td>182.769000</td>\n",
       "      <td>224.205500</td>\n",
       "      <td>140.018500</td>\n",
       "      <td>0.007365</td>\n",
       "      <td>0.000060</td>\n",
       "      <td>0.003835</td>\n",
       "      <td>0.003955</td>\n",
       "      <td>0.011505</td>\n",
       "      <td>0.037885</td>\n",
       "      <td>0.350000</td>\n",
       "      <td>...</td>\n",
       "      <td>0.060795</td>\n",
       "      <td>0.025640</td>\n",
       "      <td>25.075500</td>\n",
       "      <td>1.000000</td>\n",
       "      <td>0.587562</td>\n",
       "      <td>0.761881</td>\n",
       "      <td>-5.046192</td>\n",
       "      <td>0.279234</td>\n",
       "      <td>2.636456</td>\n",
       "      <td>0.252980</td>\n",
       "    </tr>\n",
       "    <tr>\n",
       "      <th>max</th>\n",
       "      <td>260.105000</td>\n",
       "      <td>592.030000</td>\n",
       "      <td>239.170000</td>\n",
       "      <td>0.033160</td>\n",
       "      <td>0.000260</td>\n",
       "      <td>0.021440</td>\n",
       "      <td>0.019580</td>\n",
       "      <td>0.064330</td>\n",
       "      <td>0.119080</td>\n",
       "      <td>1.302000</td>\n",
       "      <td>...</td>\n",
       "      <td>0.169420</td>\n",
       "      <td>0.314820</td>\n",
       "      <td>33.047000</td>\n",
       "      <td>1.000000</td>\n",
       "      <td>0.685151</td>\n",
       "      <td>0.825288</td>\n",
       "      <td>-2.434031</td>\n",
       "      <td>0.450493</td>\n",
       "      <td>3.671155</td>\n",
       "      <td>0.527367</td>\n",
       "    </tr>\n",
       "  </tbody>\n",
       "</table>\n",
       "<p>8 rows × 23 columns</p>\n",
       "</div>"
      ],
      "text/plain": [
       "       MDVP:Fo(Hz)  MDVP:Fhi(Hz)  MDVP:Flo(Hz)  MDVP:Jitter(%)  \\\n",
       "count   195.000000    195.000000    195.000000      195.000000   \n",
       "mean    154.228641    197.104918    116.324631        0.006220   \n",
       "std      41.390065     91.491548     43.521413        0.004848   \n",
       "min      88.333000    102.145000     65.476000        0.001680   \n",
       "25%     117.572000    134.862500     84.291000        0.003460   \n",
       "50%     148.790000    175.829000    104.315000        0.004940   \n",
       "75%     182.769000    224.205500    140.018500        0.007365   \n",
       "max     260.105000    592.030000    239.170000        0.033160   \n",
       "\n",
       "       MDVP:Jitter(Abs)    MDVP:RAP    MDVP:PPQ  Jitter:DDP  MDVP:Shimmer  \\\n",
       "count        195.000000  195.000000  195.000000  195.000000    195.000000   \n",
       "mean           0.000044    0.003306    0.003446    0.009920      0.029709   \n",
       "std            0.000035    0.002968    0.002759    0.008903      0.018857   \n",
       "min            0.000007    0.000680    0.000920    0.002040      0.009540   \n",
       "25%            0.000020    0.001660    0.001860    0.004985      0.016505   \n",
       "50%            0.000030    0.002500    0.002690    0.007490      0.022970   \n",
       "75%            0.000060    0.003835    0.003955    0.011505      0.037885   \n",
       "max            0.000260    0.021440    0.019580    0.064330      0.119080   \n",
       "\n",
       "       MDVP:Shimmer(dB)  ...  Shimmer:DDA         NHR         HNR      status  \\\n",
       "count        195.000000  ...   195.000000  195.000000  195.000000  195.000000   \n",
       "mean           0.282251  ...     0.046993    0.024847   21.885974    0.753846   \n",
       "std            0.194877  ...     0.030459    0.040418    4.425764    0.431878   \n",
       "min            0.085000  ...     0.013640    0.000650    8.441000    0.000000   \n",
       "25%            0.148500  ...     0.024735    0.005925   19.198000    1.000000   \n",
       "50%            0.221000  ...     0.038360    0.011660   22.085000    1.000000   \n",
       "75%            0.350000  ...     0.060795    0.025640   25.075500    1.000000   \n",
       "max            1.302000  ...     0.169420    0.314820   33.047000    1.000000   \n",
       "\n",
       "             RPDE         DFA     spread1     spread2          D2         PPE  \n",
       "count  195.000000  195.000000  195.000000  195.000000  195.000000  195.000000  \n",
       "mean     0.498536    0.718099   -5.684397    0.226510    2.381826    0.206552  \n",
       "std      0.103942    0.055336    1.090208    0.083406    0.382799    0.090119  \n",
       "min      0.256570    0.574282   -7.964984    0.006274    1.423287    0.044539  \n",
       "25%      0.421306    0.674758   -6.450096    0.174351    2.099125    0.137451  \n",
       "50%      0.495954    0.722254   -5.720868    0.218885    2.361532    0.194052  \n",
       "75%      0.587562    0.761881   -5.046192    0.279234    2.636456    0.252980  \n",
       "max      0.685151    0.825288   -2.434031    0.450493    3.671155    0.527367  \n",
       "\n",
       "[8 rows x 23 columns]"
      ]
     },
     "execution_count": 4,
     "metadata": {},
     "output_type": "execute_result"
    }
   ],
   "source": [
    "# descrive the data\n",
    "\n",
    "df.describe()"
   ]
  },
  {
   "cell_type": "code",
   "execution_count": 5,
   "id": "5fb62ed5",
   "metadata": {
    "execution": {
     "iopub.execute_input": "2023-03-12T16:30:22.645807Z",
     "iopub.status.busy": "2023-03-12T16:30:22.645027Z",
     "iopub.status.idle": "2023-03-12T16:30:22.668344Z",
     "shell.execute_reply": "2023-03-12T16:30:22.667026Z"
    },
    "papermill": {
     "duration": 0.041469,
     "end_time": "2023-03-12T16:30:22.671129",
     "exception": false,
     "start_time": "2023-03-12T16:30:22.629660",
     "status": "completed"
    },
    "tags": []
   },
   "outputs": [
    {
     "name": "stdout",
     "output_type": "stream",
     "text": [
      "<class 'pandas.core.frame.DataFrame'>\n",
      "RangeIndex: 195 entries, 0 to 194\n",
      "Data columns (total 24 columns):\n",
      " #   Column            Non-Null Count  Dtype  \n",
      "---  ------            --------------  -----  \n",
      " 0   name              195 non-null    object \n",
      " 1   MDVP:Fo(Hz)       195 non-null    float64\n",
      " 2   MDVP:Fhi(Hz)      195 non-null    float64\n",
      " 3   MDVP:Flo(Hz)      195 non-null    float64\n",
      " 4   MDVP:Jitter(%)    195 non-null    float64\n",
      " 5   MDVP:Jitter(Abs)  195 non-null    float64\n",
      " 6   MDVP:RAP          195 non-null    float64\n",
      " 7   MDVP:PPQ          195 non-null    float64\n",
      " 8   Jitter:DDP        195 non-null    float64\n",
      " 9   MDVP:Shimmer      195 non-null    float64\n",
      " 10  MDVP:Shimmer(dB)  195 non-null    float64\n",
      " 11  Shimmer:APQ3      195 non-null    float64\n",
      " 12  Shimmer:APQ5      195 non-null    float64\n",
      " 13  MDVP:APQ          195 non-null    float64\n",
      " 14  Shimmer:DDA       195 non-null    float64\n",
      " 15  NHR               195 non-null    float64\n",
      " 16  HNR               195 non-null    float64\n",
      " 17  status            195 non-null    int64  \n",
      " 18  RPDE              195 non-null    float64\n",
      " 19  DFA               195 non-null    float64\n",
      " 20  spread1           195 non-null    float64\n",
      " 21  spread2           195 non-null    float64\n",
      " 22  D2                195 non-null    float64\n",
      " 23  PPE               195 non-null    float64\n",
      "dtypes: float64(22), int64(1), object(1)\n",
      "memory usage: 36.7+ KB\n"
     ]
    }
   ],
   "source": [
    "#  To know how many rows and cols and NA values\n",
    "\n",
    "df.info()"
   ]
  },
  {
   "cell_type": "code",
   "execution_count": 6,
   "id": "8aef0af5",
   "metadata": {
    "execution": {
     "iopub.execute_input": "2023-03-12T16:30:22.702991Z",
     "iopub.status.busy": "2023-03-12T16:30:22.702043Z",
     "iopub.status.idle": "2023-03-12T16:30:22.709356Z",
     "shell.execute_reply": "2023-03-12T16:30:22.708395Z"
    },
    "papermill": {
     "duration": 0.025147,
     "end_time": "2023-03-12T16:30:22.711696",
     "exception": false,
     "start_time": "2023-03-12T16:30:22.686549",
     "status": "completed"
    },
    "tags": []
   },
   "outputs": [
    {
     "data": {
      "text/plain": [
       "(195, 24)"
      ]
     },
     "execution_count": 6,
     "metadata": {},
     "output_type": "execute_result"
    }
   ],
   "source": [
    "#  shape of the dataset \n",
    "\n",
    "df.shape"
   ]
  },
  {
   "cell_type": "code",
   "execution_count": 7,
   "id": "4b99e6b0",
   "metadata": {
    "execution": {
     "iopub.execute_input": "2023-03-12T16:30:22.742326Z",
     "iopub.status.busy": "2023-03-12T16:30:22.741620Z",
     "iopub.status.idle": "2023-03-12T16:30:22.757422Z",
     "shell.execute_reply": "2023-03-12T16:30:22.756023Z"
    },
    "papermill": {
     "duration": 0.034959,
     "end_time": "2023-03-12T16:30:22.760819",
     "exception": false,
     "start_time": "2023-03-12T16:30:22.725860",
     "status": "completed"
    },
    "tags": []
   },
   "outputs": [],
   "source": [
    "#Get the features and labels\n",
    "X_un=df.copy()\n",
    "X_un=X_un.drop(['name','status'],axis=1)\n",
    "y_un=df[['status']]"
   ]
  },
  {
   "cell_type": "code",
   "execution_count": 8,
   "id": "cd545588",
   "metadata": {
    "execution": {
     "iopub.execute_input": "2023-03-12T16:30:22.804150Z",
     "iopub.status.busy": "2023-03-12T16:30:22.802980Z",
     "iopub.status.idle": "2023-03-12T16:30:22.815487Z",
     "shell.execute_reply": "2023-03-12T16:30:22.814460Z"
    },
    "papermill": {
     "duration": 0.037186,
     "end_time": "2023-03-12T16:30:22.818316",
     "exception": false,
     "start_time": "2023-03-12T16:30:22.781130",
     "status": "completed"
    },
    "tags": []
   },
   "outputs": [
    {
     "data": {
      "text/plain": [
       "status\n",
       "1         147\n",
       "0          48\n",
       "dtype: int64"
      ]
     },
     "execution_count": 8,
     "metadata": {},
     "output_type": "execute_result"
    }
   ],
   "source": [
    "#0 is healthy 1 is parkison affected\n",
    "y_un.value_counts()"
   ]
  },
  {
   "cell_type": "code",
   "execution_count": 9,
   "id": "195a5179",
   "metadata": {
    "execution": {
     "iopub.execute_input": "2023-03-12T16:30:22.859203Z",
     "iopub.status.busy": "2023-03-12T16:30:22.858351Z",
     "iopub.status.idle": "2023-03-12T16:30:23.067915Z",
     "shell.execute_reply": "2023-03-12T16:30:23.066086Z"
    },
    "papermill": {
     "duration": 0.233849,
     "end_time": "2023-03-12T16:30:23.072976",
     "exception": false,
     "start_time": "2023-03-12T16:30:22.839127",
     "status": "completed"
    },
    "tags": []
   },
   "outputs": [
    {
     "data": {
      "text/plain": [
       "<AxesSubplot:ylabel='status'>"
      ]
     },
     "execution_count": 9,
     "metadata": {},
     "output_type": "execute_result"
    },
    {
     "data": {
      "image/png": "[encoded data removed]",
      "text/plain": [
       "<Figure size 640x480 with 1 Axes>"
      ]
     },
     "metadata": {},
     "output_type": "display_data"
    }
   ],
   "source": [
    "df['status'].value_counts().plot(kind='pie', autopct = \"%1.0f%%\")"
   ]
  },
  {
   "cell_type": "code",
   "execution_count": 10,
   "id": "26489c4d",
   "metadata": {
    "execution": {
     "iopub.execute_input": "2023-03-12T16:30:23.134375Z",
     "iopub.status.busy": "2023-03-12T16:30:23.133947Z",
     "iopub.status.idle": "2023-03-12T16:30:23.711935Z",
     "shell.execute_reply": "2023-03-12T16:30:23.710658Z"
    },
    "papermill": {
     "duration": 0.601575,
     "end_time": "2023-03-12T16:30:23.714389",
     "exception": false,
     "start_time": "2023-03-12T16:30:23.112814",
     "status": "completed"
    },
    "tags": []
   },
   "outputs": [
    {
     "data": {
      "text/plain": [
       "<AxesSubplot:>"
      ]
     },
     "execution_count": 10,
     "metadata": {},
     "output_type": "execute_result"
    },
    {
     "data": {
      "image/png": "[encoded data removed]",
      "text/plain": [
       "<Figure size 1500x700 with 1 Axes>"
      ]
     },
     "metadata": {},
     "output_type": "display_data"
    }
   ],
   "source": [
    "X_un.boxplot(figsize=(15,7))"
   ]
  },
  {
   "cell_type": "code",
   "execution_count": 11,
   "id": "3f74fc15",
   "metadata": {
    "execution": {
     "iopub.execute_input": "2023-03-12T16:30:23.748085Z",
     "iopub.status.busy": "2023-03-12T16:30:23.747599Z",
     "iopub.status.idle": "2023-03-12T16:30:23.765211Z",
     "shell.execute_reply": "2023-03-12T16:30:23.763850Z"
    },
    "papermill": {
     "duration": 0.037572,
     "end_time": "2023-03-12T16:30:23.767906",
     "exception": false,
     "start_time": "2023-03-12T16:30:23.730334",
     "status": "completed"
    },
    "tags": []
   },
   "outputs": [],
   "source": [
    "from sklearn.model_selection import StratifiedShuffleSplit\n",
    "split=StratifiedShuffleSplit(n_splits=3,test_size=0.2,random_state=24)\n",
    "\n",
    "for train_index,test_index in split.split(X_un,y_un):\n",
    "    strat_train_set_x,strat_train_y=X_un.loc[train_index],y_un.loc[train_index]\n",
    "    strat_test_set_x,strat_test_y=X_un.loc[test_index],y_un.loc[test_index] #completely unseen to our classifier "
   ]
  },
  {
   "cell_type": "code",
   "execution_count": 12,
   "id": "f82e0a39",
   "metadata": {
    "execution": {
     "iopub.execute_input": "2023-03-12T16:30:23.800732Z",
     "iopub.status.busy": "2023-03-12T16:30:23.800208Z",
     "iopub.status.idle": "2023-03-12T16:30:23.807129Z",
     "shell.execute_reply": "2023-03-12T16:30:23.805847Z"
    },
    "papermill": {
     "duration": 0.026331,
     "end_time": "2023-03-12T16:30:23.809755",
     "exception": false,
     "start_time": "2023-03-12T16:30:23.783424",
     "status": "completed"
    },
    "tags": []
   },
   "outputs": [
    {
     "name": "stdout",
     "output_type": "stream",
     "text": [
      "(156, 22) (156, 1)\n",
      "(39, 22) (39, 1)\n"
     ]
    }
   ],
   "source": [
    "print(strat_train_set_x.shape,strat_train_y.shape)   \n",
    "print(strat_test_set_x.shape,strat_test_y.shape)"
   ]
  },
  {
   "cell_type": "markdown",
   "id": "032b9780",
   "metadata": {
    "papermill": {
     "duration": 0.015216,
     "end_time": "2023-03-12T16:30:23.840384",
     "exception": false,
     "start_time": "2023-03-12T16:30:23.825168",
     "status": "completed"
    },
    "tags": []
   },
   "source": [
    "# without cross validation and without scaling"
   ]
  },
  {
   "cell_type": "code",
   "execution_count": 13,
   "id": "df483745",
   "metadata": {
    "execution": {
     "iopub.execute_input": "2023-03-12T16:30:23.874521Z",
     "iopub.status.busy": "2023-03-12T16:30:23.873997Z",
     "iopub.status.idle": "2023-03-12T16:30:24.159804Z",
     "shell.execute_reply": "2023-03-12T16:30:24.158614Z"
    },
    "papermill": {
     "duration": 0.306251,
     "end_time": "2023-03-12T16:30:24.163036",
     "exception": false,
     "start_time": "2023-03-12T16:30:23.856785",
     "status": "completed"
    },
    "tags": []
   },
   "outputs": [
    {
     "name": "stdout",
     "output_type": "stream",
     "text": [
      "accuracy score 0.97\n",
      "recall score 0.97\n"
     ]
    }
   ],
   "source": [
    "#Train the model\n",
    "from sklearn.metrics import precision_score, accuracy_score,recall_score\n",
    "model=XGBClassifier(use_label_encoder=False,eval_metric='rmse')\n",
    "model.fit(strat_train_set_x,strat_train_y)\n",
    "y_pred=model.predict(strat_test_set_x)\n",
    "\n",
    "print('accuracy score %.2f'% accuracy_score(y_pred,strat_test_y))\n",
    "print('recall score %.2f'%recall_score(y_pred,strat_test_y))\n"
   ]
  },
  {
   "cell_type": "code",
   "execution_count": 14,
   "id": "ee4a5464",
   "metadata": {
    "execution": {
     "iopub.execute_input": "2023-03-12T16:30:24.199354Z",
     "iopub.status.busy": "2023-03-12T16:30:24.198927Z",
     "iopub.status.idle": "2023-03-12T16:30:24.213087Z",
     "shell.execute_reply": "2023-03-12T16:30:24.211533Z"
    },
    "papermill": {
     "duration": 0.035594,
     "end_time": "2023-03-12T16:30:24.216749",
     "exception": false,
     "start_time": "2023-03-12T16:30:24.181155",
     "status": "completed"
    },
    "tags": []
   },
   "outputs": [
    {
     "name": "stdout",
     "output_type": "stream",
     "text": [
      "Confusion Matrix: \n",
      "\n",
      "Classification Report:\n",
      "              precision    recall  f1-score   support\n",
      "\n",
      "           0       0.90      1.00      0.95         9\n",
      "           1       1.00      0.97      0.98        30\n",
      "\n",
      "    accuracy                           0.97        39\n",
      "   macro avg       0.95      0.98      0.97        39\n",
      "weighted avg       0.98      0.97      0.97        39\n",
      "\n"
     ]
    }
   ],
   "source": [
    "print(\"Confusion Matrix: \")\n",
    "cf_matrix=confusion_matrix(y_pred,strat_test_y)\n",
    "\n",
    "print(\"\\nClassification Report:\")\n",
    "print(classification_report(y_pred,strat_test_y))"
   ]
  },
  {
   "cell_type": "code",
   "execution_count": 15,
   "id": "76793e86",
   "metadata": {
    "execution": {
     "iopub.execute_input": "2023-03-12T16:30:24.251996Z",
     "iopub.status.busy": "2023-03-12T16:30:24.250753Z",
     "iopub.status.idle": "2023-03-12T16:30:24.524063Z",
     "shell.execute_reply": "2023-03-12T16:30:24.523191Z"
    },
    "papermill": {
     "duration": 0.292751,
     "end_time": "2023-03-12T16:30:24.526403",
     "exception": false,
     "start_time": "2023-03-12T16:30:24.233652",
     "status": "completed"
    },
    "tags": []
   },
   "outputs": [
    {
     "name": "stdout",
     "output_type": "stream",
     "text": [
      "Confusion Matrix: \n",
      "\n",
      "Classification Report:\n",
      "              precision    recall  f1-score   support\n",
      "\n",
      "           0       0.90      1.00      0.95         9\n",
      "           1       1.00      0.97      0.98        30\n",
      "\n",
      "    accuracy                           0.97        39\n",
      "   macro avg       0.95      0.98      0.97        39\n",
      "weighted avg       0.98      0.97      0.97        39\n",
      "\n"
     ]
    },
    {
     "data": {
      "text/plain": [
       "<AxesSubplot:>"
      ]
     },
     "execution_count": 15,
     "metadata": {},
     "output_type": "execute_result"
    },
    {
     "data": {
      "image/png": "[encoded data removed]",
      "text/plain": [
       "<Figure size 640x480 with 2 Axes>"
      ]
     },
     "metadata": {},
     "output_type": "display_data"
    }
   ],
   "source": [
    "print(\"Confusion Matrix: \")\n",
    "cf_matrix=confusion_matrix(y_pred,strat_test_y)\n",
    "\n",
    "print(\"\\nClassification Report:\")\n",
    "print(classification_report(y_pred,strat_test_y))\n",
    "\n",
    "\n",
    "import seaborn as sns\n",
    "sns.heatmap(cf_matrix, annot=True)"
   ]
  },
  {
   "cell_type": "markdown",
   "id": "7f7a9e09",
   "metadata": {
    "papermill": {
     "duration": 0.015538,
     "end_time": "2023-03-12T16:30:24.558066",
     "exception": false,
     "start_time": "2023-03-12T16:30:24.542528",
     "status": "completed"
    },
    "tags": []
   },
   "source": [
    "# Using ANN"
   ]
  },
  {
   "cell_type": "code",
   "execution_count": 16,
   "id": "9f67ad56",
   "metadata": {
    "execution": {
     "iopub.execute_input": "2023-03-12T16:30:24.592088Z",
     "iopub.status.busy": "2023-03-12T16:30:24.591396Z",
     "iopub.status.idle": "2023-03-12T16:30:33.525538Z",
     "shell.execute_reply": "2023-03-12T16:30:33.524400Z"
    },
    "papermill": {
     "duration": 8.954983,
     "end_time": "2023-03-12T16:30:33.528880",
     "exception": false,
     "start_time": "2023-03-12T16:30:24.573897",
     "status": "completed"
    },
    "tags": []
   },
   "outputs": [],
   "source": [
    "import os\n",
    "import numpy as np\n",
    "import pandas as pd\n",
    "import matplotlib.pyplot as plt\n",
    "from sklearn.preprocessing import MinMaxScaler\n",
    "from sklearn.model_selection import train_test_split\n",
    "import tensorflow as tf\n",
    "import tensorflow_addons as tfa\n",
    "from tensorflow.keras.layers import *\n",
    "from tensorflow.keras.models import Sequential\n",
    "from tensorflow.keras.utils import to_categorical"
   ]
  },
  {
   "cell_type": "markdown",
   "id": "ca1bb10f",
   "metadata": {
    "papermill": {
     "duration": 0.015674,
     "end_time": "2023-03-12T16:30:33.560809",
     "exception": false,
     "start_time": "2023-03-12T16:30:33.545135",
     "status": "completed"
    },
    "tags": []
   },
   "source": [
    "# Set Configurations and read data"
   ]
  },
  {
   "cell_type": "code",
   "execution_count": 17,
   "id": "3ee4da6c",
   "metadata": {
    "execution": {
     "iopub.execute_input": "2023-03-12T16:30:33.597121Z",
     "iopub.status.busy": "2023-03-12T16:30:33.596054Z",
     "iopub.status.idle": "2023-03-12T16:30:33.609985Z",
     "shell.execute_reply": "2023-03-12T16:30:33.608876Z"
    },
    "papermill": {
     "duration": 0.035858,
     "end_time": "2023-03-12T16:30:33.612901",
     "exception": false,
     "start_time": "2023-03-12T16:30:33.577043",
     "status": "completed"
    },
    "tags": []
   },
   "outputs": [],
   "source": [
    "SEED = 42\n",
    "EPOCHS = 300\n",
    "BATCH_SIZE = 32\n",
    "\n",
    "df = pd.read_csv('../input/parkinsons-disease-data-set/parkinsons.data')"
   ]
  },
  {
   "cell_type": "code",
   "execution_count": 18,
   "id": "45b3dafb",
   "metadata": {
    "execution": {
     "iopub.execute_input": "2023-03-12T16:30:33.646796Z",
     "iopub.status.busy": "2023-03-12T16:30:33.646323Z",
     "iopub.status.idle": "2023-03-12T16:30:33.652903Z",
     "shell.execute_reply": "2023-03-12T16:30:33.651506Z"
    },
    "papermill": {
     "duration": 0.026573,
     "end_time": "2023-03-12T16:30:33.655488",
     "exception": false,
     "start_time": "2023-03-12T16:30:33.628915",
     "status": "completed"
    },
    "tags": []
   },
   "outputs": [],
   "source": [
    "def seed_everything(seed):\n",
    "    np.random.seed(seed)\n",
    "    os.environ['PYTHONHASHSEED'] = str(seed)\n",
    "    tf.random.set_seed(seed)\n",
    "\n",
    "seed_everything(SEED)"
   ]
  },
  {
   "cell_type": "markdown",
   "id": "e86811ed",
   "metadata": {
    "papermill": {
     "duration": 0.016307,
     "end_time": "2023-03-12T16:30:33.687659",
     "exception": false,
     "start_time": "2023-03-12T16:30:33.671352",
     "status": "completed"
    },
    "tags": []
   },
   "source": [
    "# EDA"
   ]
  },
  {
   "cell_type": "code",
   "execution_count": 19,
   "id": "4375e86b",
   "metadata": {
    "execution": {
     "iopub.execute_input": "2023-03-12T16:30:33.721603Z",
     "iopub.status.busy": "2023-03-12T16:30:33.721122Z",
     "iopub.status.idle": "2023-03-12T16:30:33.732556Z",
     "shell.execute_reply": "2023-03-12T16:30:33.731252Z"
    },
    "papermill": {
     "duration": 0.031605,
     "end_time": "2023-03-12T16:30:33.735214",
     "exception": false,
     "start_time": "2023-03-12T16:30:33.703609",
     "status": "completed"
    },
    "tags": []
   },
   "outputs": [
    {
     "data": {
      "text/plain": [
       "1    147\n",
       "0     48\n",
       "Name: status, dtype: int64"
      ]
     },
     "execution_count": 19,
     "metadata": {},
     "output_type": "execute_result"
    }
   ],
   "source": [
    "df['status'].value_counts()"
   ]
  },
  {
   "cell_type": "code",
   "execution_count": 20,
   "id": "cbfe0019",
   "metadata": {
    "execution": {
     "iopub.execute_input": "2023-03-12T16:30:33.769617Z",
     "iopub.status.busy": "2023-03-12T16:30:33.769083Z",
     "iopub.status.idle": "2023-03-12T16:30:33.856946Z",
     "shell.execute_reply": "2023-03-12T16:30:33.855594Z"
    },
    "papermill": {
     "duration": 0.108602,
     "end_time": "2023-03-12T16:30:33.860031",
     "exception": false,
     "start_time": "2023-03-12T16:30:33.751429",
     "status": "completed"
    },
    "tags": []
   },
   "outputs": [
    {
     "data": {
      "text/html": [
       "<div>\n",
       "<style scoped>\n",
       "    .dataframe tbody tr th:only-of-type {\n",
       "        vertical-align: middle;\n",
       "    }\n",
       "\n",
       "    .dataframe tbody tr th {\n",
       "        vertical-align: top;\n",
       "    }\n",
       "\n",
       "    .dataframe thead th {\n",
       "        text-align: right;\n",
       "    }\n",
       "</style>\n",
       "<table border=\"1\" class=\"dataframe\">\n",
       "  <thead>\n",
       "    <tr style=\"text-align: right;\">\n",
       "      <th></th>\n",
       "      <th>MDVP:Fo(Hz)</th>\n",
       "      <th>MDVP:Fhi(Hz)</th>\n",
       "      <th>MDVP:Flo(Hz)</th>\n",
       "      <th>MDVP:Jitter(%)</th>\n",
       "      <th>MDVP:Jitter(Abs)</th>\n",
       "      <th>MDVP:RAP</th>\n",
       "      <th>MDVP:PPQ</th>\n",
       "      <th>Jitter:DDP</th>\n",
       "      <th>MDVP:Shimmer</th>\n",
       "      <th>MDVP:Shimmer(dB)</th>\n",
       "      <th>...</th>\n",
       "      <th>Shimmer:DDA</th>\n",
       "      <th>NHR</th>\n",
       "      <th>HNR</th>\n",
       "      <th>status</th>\n",
       "      <th>RPDE</th>\n",
       "      <th>DFA</th>\n",
       "      <th>spread1</th>\n",
       "      <th>spread2</th>\n",
       "      <th>D2</th>\n",
       "      <th>PPE</th>\n",
       "    </tr>\n",
       "  </thead>\n",
       "  <tbody>\n",
       "    <tr>\n",
       "      <th>count</th>\n",
       "      <td>195.000000</td>\n",
       "      <td>195.000000</td>\n",
       "      <td>195.000000</td>\n",
       "      <td>195.000000</td>\n",
       "      <td>195.000000</td>\n",
       "      <td>195.000000</td>\n",
       "      <td>195.000000</td>\n",
       "      <td>195.000000</td>\n",
       "      <td>195.000000</td>\n",
       "      <td>195.000000</td>\n",
       "      <td>...</td>\n",
       "      <td>195.000000</td>\n",
       "      <td>195.000000</td>\n",
       "      <td>195.000000</td>\n",
       "      <td>195.000000</td>\n",
       "      <td>195.000000</td>\n",
       "      <td>195.000000</td>\n",
       "      <td>195.000000</td>\n",
       "      <td>195.000000</td>\n",
       "      <td>195.000000</td>\n",
       "      <td>195.000000</td>\n",
       "    </tr>\n",
       "    <tr>\n",
       "      <th>mean</th>\n",
       "      <td>154.228641</td>\n",
       "      <td>197.104918</td>\n",
       "      <td>116.324631</td>\n",
       "      <td>0.006220</td>\n",
       "      <td>0.000044</td>\n",
       "      <td>0.003306</td>\n",
       "      <td>0.003446</td>\n",
       "      <td>0.009920</td>\n",
       "      <td>0.029709</td>\n",
       "      <td>0.282251</td>\n",
       "      <td>...</td>\n",
       "      <td>0.046993</td>\n",
       "      <td>0.024847</td>\n",
       "      <td>21.885974</td>\n",
       "      <td>0.753846</td>\n",
       "      <td>0.498536</td>\n",
       "      <td>0.718099</td>\n",
       "      <td>-5.684397</td>\n",
       "      <td>0.226510</td>\n",
       "      <td>2.381826</td>\n",
       "      <td>0.206552</td>\n",
       "    </tr>\n",
       "    <tr>\n",
       "      <th>std</th>\n",
       "      <td>41.390065</td>\n",
       "      <td>91.491548</td>\n",
       "      <td>43.521413</td>\n",
       "      <td>0.004848</td>\n",
       "      <td>0.000035</td>\n",
       "      <td>0.002968</td>\n",
       "      <td>0.002759</td>\n",
       "      <td>0.008903</td>\n",
       "      <td>0.018857</td>\n",
       "      <td>0.194877</td>\n",
       "      <td>...</td>\n",
       "      <td>0.030459</td>\n",
       "      <td>0.040418</td>\n",
       "      <td>4.425764</td>\n",
       "      <td>0.431878</td>\n",
       "      <td>0.103942</td>\n",
       "      <td>0.055336</td>\n",
       "      <td>1.090208</td>\n",
       "      <td>0.083406</td>\n",
       "      <td>0.382799</td>\n",
       "      <td>0.090119</td>\n",
       "    </tr>\n",
       "    <tr>\n",
       "      <th>min</th>\n",
       "      <td>88.333000</td>\n",
       "      <td>102.145000</td>\n",
       "      <td>65.476000</td>\n",
       "      <td>0.001680</td>\n",
       "      <td>0.000007</td>\n",
       "      <td>0.000680</td>\n",
       "      <td>0.000920</td>\n",
       "      <td>0.002040</td>\n",
       "      <td>0.009540</td>\n",
       "      <td>0.085000</td>\n",
       "      <td>...</td>\n",
       "      <td>0.013640</td>\n",
       "      <td>0.000650</td>\n",
       "      <td>8.441000</td>\n",
       "      <td>0.000000</td>\n",
       "      <td>0.256570</td>\n",
       "      <td>0.574282</td>\n",
       "      <td>-7.964984</td>\n",
       "      <td>0.006274</td>\n",
       "      <td>1.423287</td>\n",
       "      <td>0.044539</td>\n",
       "    </tr>\n",
       "    <tr>\n",
       "      <th>25%</th>\n",
       "      <td>117.572000</td>\n",
       "      <td>134.862500</td>\n",
       "      <td>84.291000</td>\n",
       "      <td>0.003460</td>\n",
       "      <td>0.000020</td>\n",
       "      <td>0.001660</td>\n",
       "      <td>0.001860</td>\n",
       "      <td>0.004985</td>\n",
       "      <td>0.016505</td>\n",
       "      <td>0.148500</td>\n",
       "      <td>...</td>\n",
       "      <td>0.024735</td>\n",
       "      <td>0.005925</td>\n",
       "      <td>19.198000</td>\n",
       "      <td>1.000000</td>\n",
       "      <td>0.421306</td>\n",
       "      <td>0.674758</td>\n",
       "      <td>-6.450096</td>\n",
       "      <td>0.174351</td>\n",
       "      <td>2.099125</td>\n",
       "      <td>0.137451</td>\n",
       "    </tr>\n",
       "    <tr>\n",
       "      <th>50%</th>\n",
       "      <td>148.790000</td>\n",
       "      <td>175.829000</td>\n",
       "      <td>104.315000</td>\n",
       "      <td>0.004940</td>\n",
       "      <td>0.000030</td>\n",
       "      <td>0.002500</td>\n",
       "      <td>0.002690</td>\n",
       "      <td>0.007490</td>\n",
       "      <td>0.022970</td>\n",
       "      <td>0.221000</td>\n",
       "      <td>...</td>\n",
       "      <td>0.038360</td>\n",
       "      <td>0.011660</td>\n",
       "      <td>22.085000</td>\n",
       "      <td>1.000000</td>\n",
       "      <td>0.495954</td>\n",
       "      <td>0.722254</td>\n",
       "      <td>-5.720868</td>\n",
       "      <td>0.218885</td>\n",
       "      <td>2.361532</td>\n",
       "      <td>0.194052</td>\n",
       "    </tr>\n",
       "    <tr>\n",
       "      <th>75%</th>\n",
       "      <td>182.769000</td>\n",
       "      <td>224.205500</td>\n",
       "      <td>140.018500</td>\n",
       "      <td>0.007365</td>\n",
       "      <td>0.000060</td>\n",
       "      <td>0.003835</td>\n",
       "      <td>0.003955</td>\n",
       "      <td>0.011505</td>\n",
       "      <td>0.037885</td>\n",
       "      <td>0.350000</td>\n",
       "      <td>...</td>\n",
       "      <td>0.060795</td>\n",
       "      <td>0.025640</td>\n",
       "      <td>25.075500</td>\n",
       "      <td>1.000000</td>\n",
       "      <td>0.587562</td>\n",
       "      <td>0.761881</td>\n",
       "      <td>-5.046192</td>\n",
       "      <td>0.279234</td>\n",
       "      <td>2.636456</td>\n",
       "      <td>0.252980</td>\n",
       "    </tr>\n",
       "    <tr>\n",
       "      <th>max</th>\n",
       "      <td>260.105000</td>\n",
       "      <td>592.030000</td>\n",
       "      <td>239.170000</td>\n",
       "      <td>0.033160</td>\n",
       "      <td>0.000260</td>\n",
       "      <td>0.021440</td>\n",
       "      <td>0.019580</td>\n",
       "      <td>0.064330</td>\n",
       "      <td>0.119080</td>\n",
       "      <td>1.302000</td>\n",
       "      <td>...</td>\n",
       "      <td>0.169420</td>\n",
       "      <td>0.314820</td>\n",
       "      <td>33.047000</td>\n",
       "      <td>1.000000</td>\n",
       "      <td>0.685151</td>\n",
       "      <td>0.825288</td>\n",
       "      <td>-2.434031</td>\n",
       "      <td>0.450493</td>\n",
       "      <td>3.671155</td>\n",
       "      <td>0.527367</td>\n",
       "    </tr>\n",
       "  </tbody>\n",
       "</table>\n",
       "<p>8 rows × 23 columns</p>\n",
       "</div>"
      ],
      "text/plain": [
       "       MDVP:Fo(Hz)  MDVP:Fhi(Hz)  MDVP:Flo(Hz)  MDVP:Jitter(%)  \\\n",
       "count   195.000000    195.000000    195.000000      195.000000   \n",
       "mean    154.228641    197.104918    116.324631        0.006220   \n",
       "std      41.390065     91.491548     43.521413        0.004848   \n",
       "min      88.333000    102.145000     65.476000        0.001680   \n",
       "25%     117.572000    134.862500     84.291000        0.003460   \n",
       "50%     148.790000    175.829000    104.315000        0.004940   \n",
       "75%     182.769000    224.205500    140.018500        0.007365   \n",
       "max     260.105000    592.030000    239.170000        0.033160   \n",
       "\n",
       "       MDVP:Jitter(Abs)    MDVP:RAP    MDVP:PPQ  Jitter:DDP  MDVP:Shimmer  \\\n",
       "count        195.000000  195.000000  195.000000  195.000000    195.000000   \n",
       "mean           0.000044    0.003306    0.003446    0.009920      0.029709   \n",
       "std            0.000035    0.002968    0.002759    0.008903      0.018857   \n",
       "min            0.000007    0.000680    0.000920    0.002040      0.009540   \n",
       "25%            0.000020    0.001660    0.001860    0.004985      0.016505   \n",
       "50%            0.000030    0.002500    0.002690    0.007490      0.022970   \n",
       "75%            0.000060    0.003835    0.003955    0.011505      0.037885   \n",
       "max            0.000260    0.021440    0.019580    0.064330      0.119080   \n",
       "\n",
       "       MDVP:Shimmer(dB)  ...  Shimmer:DDA         NHR         HNR      status  \\\n",
       "count        195.000000  ...   195.000000  195.000000  195.000000  195.000000   \n",
       "mean           0.282251  ...     0.046993    0.024847   21.885974    0.753846   \n",
       "std            0.194877  ...     0.030459    0.040418    4.425764    0.431878   \n",
       "min            0.085000  ...     0.013640    0.000650    8.441000    0.000000   \n",
       "25%            0.148500  ...     0.024735    0.005925   19.198000    1.000000   \n",
       "50%            0.221000  ...     0.038360    0.011660   22.085000    1.000000   \n",
       "75%            0.350000  ...     0.060795    0.025640   25.075500    1.000000   \n",
       "max            1.302000  ...     0.169420    0.314820   33.047000    1.000000   \n",
       "\n",
       "             RPDE         DFA     spread1     spread2          D2         PPE  \n",
       "count  195.000000  195.000000  195.000000  195.000000  195.000000  195.000000  \n",
       "mean     0.498536    0.718099   -5.684397    0.226510    2.381826    0.206552  \n",
       "std      0.103942    0.055336    1.090208    0.083406    0.382799    0.090119  \n",
       "min      0.256570    0.574282   -7.964984    0.006274    1.423287    0.044539  \n",
       "25%      0.421306    0.674758   -6.450096    0.174351    2.099125    0.137451  \n",
       "50%      0.495954    0.722254   -5.720868    0.218885    2.361532    0.194052  \n",
       "75%      0.587562    0.761881   -5.046192    0.279234    2.636456    0.252980  \n",
       "max      0.685151    0.825288   -2.434031    0.450493    3.671155    0.527367  \n",
       "\n",
       "[8 rows x 23 columns]"
      ]
     },
     "execution_count": 20,
     "metadata": {},
     "output_type": "execute_result"
    }
   ],
   "source": [
    "df.describe()"
   ]
  },
  {
   "cell_type": "code",
   "execution_count": 21,
   "id": "282ec40c",
   "metadata": {
    "execution": {
     "iopub.execute_input": "2023-03-12T16:30:33.896526Z",
     "iopub.status.busy": "2023-03-12T16:30:33.895712Z",
     "iopub.status.idle": "2023-03-12T16:30:33.914277Z",
     "shell.execute_reply": "2023-03-12T16:30:33.912925Z"
    },
    "papermill": {
     "duration": 0.040178,
     "end_time": "2023-03-12T16:30:33.916922",
     "exception": false,
     "start_time": "2023-03-12T16:30:33.876744",
     "status": "completed"
    },
    "tags": []
   },
   "outputs": [],
   "source": [
    "df = df.drop('name', axis=1)\n",
    "\n",
    "train_df, test_df = train_test_split(df, \n",
    "                                     test_size=0.2, \n",
    "                                     random_state=SEED)\n",
    "train_df, val_df = train_test_split(train_df,\n",
    "                                    test_size=0.2,\n",
    "                                    random_state=SEED)\n",
    "\n",
    "\n",
    "X_train = train_df.drop('status', axis=1).values.astype('float32')\n",
    "y_train = train_df['status'].values.astype('int32')\n",
    "X_val = val_df.drop('status', axis=1).values.astype('float32')\n",
    "y_val = val_df['status'].values.astype('int32')\n",
    "X_test = test_df.drop('status', axis=1).values.astype('float32')\n",
    "y_test = test_df['status'].values.astype('int32')\n",
    "\n",
    "mmsc = MinMaxScaler()\n",
    "X_train = mmsc.fit_transform(X_train) \n",
    "X_val = mmsc.transform(X_val)\n",
    "X_test = mmsc.transform(X_test)\n",
    "\n",
    "y_train = to_categorical(y_train)\n",
    "y_val = to_categorical(y_val)\n",
    "y_test = to_categorical(y_test)"
   ]
  },
  {
   "cell_type": "markdown",
   "id": "10956522",
   "metadata": {
    "papermill": {
     "duration": 0.016402,
     "end_time": "2023-03-12T16:30:33.950371",
     "exception": false,
     "start_time": "2023-03-12T16:30:33.933969",
     "status": "completed"
    },
    "tags": []
   },
   "source": [
    "# Build the model"
   ]
  },
  {
   "cell_type": "code",
   "execution_count": 22,
   "id": "bd414e2d",
   "metadata": {
    "execution": {
     "iopub.execute_input": "2023-03-12T16:30:33.985862Z",
     "iopub.status.busy": "2023-03-12T16:30:33.985395Z",
     "iopub.status.idle": "2023-03-12T16:30:34.173021Z",
     "shell.execute_reply": "2023-03-12T16:30:34.171397Z"
    },
    "papermill": {
     "duration": 0.212354,
     "end_time": "2023-03-12T16:30:34.179422",
     "exception": false,
     "start_time": "2023-03-12T16:30:33.967068",
     "status": "completed"
    },
    "tags": []
   },
   "outputs": [
    {
     "name": "stdout",
     "output_type": "stream",
     "text": [
      "Model: \"sequential\"\n",
      "_________________________________________________________________\n",
      " Layer (type)                Output Shape              Param #   \n",
      "=================================================================\n",
      " dense (Dense)               (None, 128)               2944      \n",
      "                                                                 \n",
      " dense_1 (Dense)             (None, 128)               16512     \n",
      "                                                                 \n",
      " dense_2 (Dense)             (None, 64)                8256      \n",
      "                                                                 \n",
      " dense_3 (Dense)             (None, 2)                 130       \n",
      "                                                                 \n",
      "=================================================================\n",
      "Total params: 27,842\n",
      "Trainable params: 27,842\n",
      "Non-trainable params: 0\n",
      "_________________________________________________________________\n"
     ]
    }
   ],
   "source": [
    "shape = X_train.shape[1]\n",
    "num_classes = y_train.shape[1]\n",
    "\n",
    "model = Sequential()\n",
    "model.add(Input((shape,)))\n",
    "model.add(Dense(128, activation='relu'))\n",
    "model.add(Dense(128, activation='relu'))\n",
    "model.add(Dense(64, activation='relu'))\n",
    "model.add(Dense(num_classes, activation='softmax'))\n",
    "opt = tfa.optimizers.RectifiedAdam()\n",
    "model.compile(loss='categorical_crossentropy', optimizer=opt, metrics=['accuracy'])\n",
    "model.summary()"
   ]
  },
  {
   "cell_type": "code",
   "execution_count": 23,
   "id": "631d4f49",
   "metadata": {
    "execution": {
     "iopub.execute_input": "2023-03-12T16:30:34.218182Z",
     "iopub.status.busy": "2023-03-12T16:30:34.217762Z",
     "iopub.status.idle": "2023-03-12T16:30:49.104076Z",
     "shell.execute_reply": "2023-03-12T16:30:49.103069Z"
    },
    "papermill": {
     "duration": 14.908483,
     "end_time": "2023-03-12T16:30:49.106777",
     "exception": false,
     "start_time": "2023-03-12T16:30:34.198294",
     "status": "completed"
    },
    "tags": []
   },
   "outputs": [
    {
     "name": "stdout",
     "output_type": "stream",
     "text": [
      "Epoch 1/300\n",
      "4/4 [==============================] - 1s 84ms/step - loss: 0.6898 - accuracy: 0.5726 - val_loss: 0.6898 - val_accuracy: 0.5625\n",
      "Epoch 2/300\n",
      "4/4 [==============================] - 0s 12ms/step - loss: 0.6870 - accuracy: 0.6048 - val_loss: 0.6861 - val_accuracy: 0.6250\n",
      "Epoch 3/300\n",
      "4/4 [==============================] - 0s 13ms/step - loss: 0.6805 - accuracy: 0.6935 - val_loss: 0.6797 - val_accuracy: 0.6875\n",
      "Epoch 4/300\n",
      "4/4 [==============================] - 0s 13ms/step - loss: 0.6708 - accuracy: 0.7419 - val_loss: 0.6717 - val_accuracy: 0.7188\n",
      "Epoch 5/300\n",
      "4/4 [==============================] - 0s 13ms/step - loss: 0.6598 - accuracy: 0.7419 - val_loss: 0.6623 - val_accuracy: 0.7188\n",
      "Epoch 6/300\n",
      "4/4 [==============================] - 0s 12ms/step - loss: 0.6478 - accuracy: 0.7419 - val_loss: 0.6523 - val_accuracy: 0.7188\n",
      "Epoch 7/300\n",
      "4/4 [==============================] - 0s 13ms/step - loss: 0.6349 - accuracy: 0.7419 - val_loss: 0.6418 - val_accuracy: 0.7188\n",
      "Epoch 8/300\n",
      "4/4 [==============================] - 0s 13ms/step - loss: 0.6199 - accuracy: 0.7419 - val_loss: 0.6311 - val_accuracy: 0.7188\n",
      "Epoch 9/300\n",
      "4/4 [==============================] - 0s 14ms/step - loss: 0.6064 - accuracy: 0.7419 - val_loss: 0.6200 - val_accuracy: 0.7188\n",
      "Epoch 10/300\n",
      "4/4 [==============================] - 0s 14ms/step - loss: 0.5919 - accuracy: 0.7419 - val_loss: 0.6088 - val_accuracy: 0.7188\n",
      "Epoch 11/300\n",
      "4/4 [==============================] - 0s 13ms/step - loss: 0.5772 - accuracy: 0.7419 - val_loss: 0.5973 - val_accuracy: 0.7188\n",
      "Epoch 12/300\n",
      "4/4 [==============================] - 0s 14ms/step - loss: 0.5627 - accuracy: 0.7419 - val_loss: 0.5860 - val_accuracy: 0.7188\n",
      "Epoch 13/300\n",
      "4/4 [==============================] - 0s 13ms/step - loss: 0.5492 - accuracy: 0.7419 - val_loss: 0.5748 - val_accuracy: 0.7188\n",
      "Epoch 14/300\n",
      "4/4 [==============================] - 0s 13ms/step - loss: 0.5355 - accuracy: 0.7419 - val_loss: 0.5640 - val_accuracy: 0.7188\n",
      "Epoch 15/300\n",
      "4/4 [==============================] - 0s 12ms/step - loss: 0.5205 - accuracy: 0.7419 - val_loss: 0.5539 - val_accuracy: 0.7188\n",
      "Epoch 16/300\n",
      "4/4 [==============================] - 0s 14ms/step - loss: 0.5067 - accuracy: 0.7419 - val_loss: 0.5443 - val_accuracy: 0.7188\n",
      "Epoch 17/300\n",
      "4/4 [==============================] - 0s 13ms/step - loss: 0.4937 - accuracy: 0.7419 - val_loss: 0.5352 - val_accuracy: 0.7188\n",
      "Epoch 18/300\n",
      "4/4 [==============================] - 0s 12ms/step - loss: 0.4830 - accuracy: 0.7419 - val_loss: 0.5264 - val_accuracy: 0.7188\n",
      "Epoch 19/300\n",
      "4/4 [==============================] - 0s 12ms/step - loss: 0.4702 - accuracy: 0.7419 - val_loss: 0.5182 - val_accuracy: 0.7188\n",
      "Epoch 20/300\n",
      "4/4 [==============================] - 0s 13ms/step - loss: 0.4587 - accuracy: 0.7419 - val_loss: 0.5095 - val_accuracy: 0.7188\n",
      "Epoch 21/300\n",
      "4/4 [==============================] - 0s 14ms/step - loss: 0.4475 - accuracy: 0.7500 - val_loss: 0.5011 - val_accuracy: 0.7188\n",
      "Epoch 22/300\n",
      "4/4 [==============================] - 0s 15ms/step - loss: 0.4361 - accuracy: 0.7823 - val_loss: 0.4925 - val_accuracy: 0.8125\n",
      "Epoch 23/300\n",
      "4/4 [==============================] - 0s 13ms/step - loss: 0.4253 - accuracy: 0.8145 - val_loss: 0.4842 - val_accuracy: 0.8125\n",
      "Epoch 24/300\n",
      "4/4 [==============================] - 0s 13ms/step - loss: 0.4152 - accuracy: 0.8226 - val_loss: 0.4764 - val_accuracy: 0.8125\n",
      "Epoch 25/300\n",
      "4/4 [==============================] - 0s 14ms/step - loss: 0.4057 - accuracy: 0.8468 - val_loss: 0.4691 - val_accuracy: 0.8125\n",
      "Epoch 26/300\n",
      "4/4 [==============================] - 0s 12ms/step - loss: 0.3964 - accuracy: 0.8548 - val_loss: 0.4620 - val_accuracy: 0.8125\n",
      "Epoch 27/300\n",
      "4/4 [==============================] - 0s 13ms/step - loss: 0.3869 - accuracy: 0.8548 - val_loss: 0.4553 - val_accuracy: 0.8125\n",
      "Epoch 28/300\n",
      "4/4 [==============================] - 0s 13ms/step - loss: 0.3786 - accuracy: 0.8468 - val_loss: 0.4489 - val_accuracy: 0.8125\n",
      "Epoch 29/300\n",
      "4/4 [==============================] - 0s 14ms/step - loss: 0.3708 - accuracy: 0.8387 - val_loss: 0.4429 - val_accuracy: 0.8125\n",
      "Epoch 30/300\n",
      "4/4 [==============================] - 0s 13ms/step - loss: 0.3621 - accuracy: 0.8468 - val_loss: 0.4369 - val_accuracy: 0.8438\n",
      "Epoch 31/300\n",
      "4/4 [==============================] - 0s 14ms/step - loss: 0.3543 - accuracy: 0.8468 - val_loss: 0.4307 - val_accuracy: 0.8438\n",
      "Epoch 32/300\n",
      "4/4 [==============================] - 0s 15ms/step - loss: 0.3469 - accuracy: 0.8387 - val_loss: 0.4246 - val_accuracy: 0.8438\n",
      "Epoch 33/300\n",
      "4/4 [==============================] - 0s 14ms/step - loss: 0.3388 - accuracy: 0.8387 - val_loss: 0.4185 - val_accuracy: 0.8438\n",
      "Epoch 34/300\n",
      "4/4 [==============================] - 0s 15ms/step - loss: 0.3313 - accuracy: 0.8387 - val_loss: 0.4129 - val_accuracy: 0.8438\n",
      "Epoch 35/300\n",
      "4/4 [==============================] - 0s 12ms/step - loss: 0.3243 - accuracy: 0.8306 - val_loss: 0.4073 - val_accuracy: 0.8438\n",
      "Epoch 36/300\n",
      "4/4 [==============================] - 0s 12ms/step - loss: 0.3177 - accuracy: 0.8306 - val_loss: 0.4019 - val_accuracy: 0.8438\n",
      "Epoch 37/300\n",
      "4/4 [==============================] - 0s 12ms/step - loss: 0.3109 - accuracy: 0.8387 - val_loss: 0.3971 - val_accuracy: 0.8438\n",
      "Epoch 38/300\n",
      "4/4 [==============================] - 0s 13ms/step - loss: 0.3043 - accuracy: 0.8387 - val_loss: 0.3928 - val_accuracy: 0.8750\n",
      "Epoch 39/300\n",
      "4/4 [==============================] - 0s 12ms/step - loss: 0.2979 - accuracy: 0.8387 - val_loss: 0.3881 - val_accuracy: 0.8750\n",
      "Epoch 40/300\n",
      "4/4 [==============================] - 0s 12ms/step - loss: 0.2925 - accuracy: 0.8468 - val_loss: 0.3835 - val_accuracy: 0.8750\n",
      "Epoch 41/300\n",
      "4/4 [==============================] - 0s 13ms/step - loss: 0.2875 - accuracy: 0.8548 - val_loss: 0.3808 - val_accuracy: 0.8438\n",
      "Epoch 42/300\n",
      "4/4 [==============================] - 0s 13ms/step - loss: 0.2805 - accuracy: 0.8548 - val_loss: 0.3764 - val_accuracy: 0.8750\n",
      "Epoch 43/300\n",
      "4/4 [==============================] - 0s 13ms/step - loss: 0.2740 - accuracy: 0.8548 - val_loss: 0.3712 - val_accuracy: 0.8750\n",
      "Epoch 44/300\n",
      "4/4 [==============================] - 0s 13ms/step - loss: 0.2702 - accuracy: 0.8629 - val_loss: 0.3667 - val_accuracy: 0.8750\n",
      "Epoch 45/300\n",
      "4/4 [==============================] - 0s 12ms/step - loss: 0.2646 - accuracy: 0.8629 - val_loss: 0.3629 - val_accuracy: 0.8750\n",
      "Epoch 46/300\n",
      "4/4 [==============================] - 0s 13ms/step - loss: 0.2609 - accuracy: 0.8710 - val_loss: 0.3622 - val_accuracy: 0.8750\n",
      "Epoch 47/300\n",
      "4/4 [==============================] - 0s 14ms/step - loss: 0.2562 - accuracy: 0.8710 - val_loss: 0.3592 - val_accuracy: 0.8438\n",
      "Epoch 48/300\n",
      "4/4 [==============================] - 0s 12ms/step - loss: 0.2481 - accuracy: 0.8710 - val_loss: 0.3527 - val_accuracy: 0.8750\n",
      "Epoch 49/300\n",
      "4/4 [==============================] - 0s 12ms/step - loss: 0.2473 - accuracy: 0.8871 - val_loss: 0.3501 - val_accuracy: 0.8750\n",
      "Epoch 50/300\n",
      "4/4 [==============================] - 0s 13ms/step - loss: 0.2409 - accuracy: 0.8871 - val_loss: 0.3456 - val_accuracy: 0.8750\n",
      "Epoch 51/300\n",
      "4/4 [==============================] - 0s 13ms/step - loss: 0.2353 - accuracy: 0.8871 - val_loss: 0.3438 - val_accuracy: 0.8750\n",
      "Epoch 52/300\n",
      "4/4 [==============================] - 0s 13ms/step - loss: 0.2301 - accuracy: 0.8871 - val_loss: 0.3422 - val_accuracy: 0.8750\n",
      "Epoch 53/300\n",
      "4/4 [==============================] - 0s 12ms/step - loss: 0.2275 - accuracy: 0.8871 - val_loss: 0.3375 - val_accuracy: 0.8750\n",
      "Epoch 54/300\n",
      "4/4 [==============================] - 0s 12ms/step - loss: 0.2247 - accuracy: 0.8952 - val_loss: 0.3354 - val_accuracy: 0.8750\n",
      "Epoch 55/300\n",
      "4/4 [==============================] - 0s 13ms/step - loss: 0.2172 - accuracy: 0.9032 - val_loss: 0.3299 - val_accuracy: 0.8750\n",
      "Epoch 56/300\n",
      "4/4 [==============================] - 0s 13ms/step - loss: 0.2136 - accuracy: 0.8952 - val_loss: 0.3266 - val_accuracy: 0.8750\n",
      "Epoch 57/300\n",
      "4/4 [==============================] - 0s 12ms/step - loss: 0.2085 - accuracy: 0.9113 - val_loss: 0.3242 - val_accuracy: 0.8750\n",
      "Epoch 58/300\n",
      "4/4 [==============================] - 0s 12ms/step - loss: 0.2034 - accuracy: 0.9113 - val_loss: 0.3228 - val_accuracy: 0.8750\n",
      "Epoch 59/300\n",
      "4/4 [==============================] - 0s 12ms/step - loss: 0.1995 - accuracy: 0.9113 - val_loss: 0.3177 - val_accuracy: 0.8750\n",
      "Epoch 60/300\n",
      "4/4 [==============================] - 0s 12ms/step - loss: 0.1950 - accuracy: 0.8952 - val_loss: 0.3143 - val_accuracy: 0.8750\n",
      "Epoch 61/300\n",
      "4/4 [==============================] - 0s 13ms/step - loss: 0.1911 - accuracy: 0.8952 - val_loss: 0.3120 - val_accuracy: 0.8750\n",
      "Epoch 62/300\n",
      "4/4 [==============================] - 0s 13ms/step - loss: 0.1900 - accuracy: 0.9113 - val_loss: 0.3067 - val_accuracy: 0.8750\n",
      "Epoch 63/300\n",
      "4/4 [==============================] - 0s 14ms/step - loss: 0.1825 - accuracy: 0.8952 - val_loss: 0.3053 - val_accuracy: 0.8750\n",
      "Epoch 64/300\n",
      "4/4 [==============================] - 0s 12ms/step - loss: 0.1801 - accuracy: 0.9113 - val_loss: 0.3046 - val_accuracy: 0.8750\n",
      "Epoch 65/300\n",
      "4/4 [==============================] - 0s 12ms/step - loss: 0.1756 - accuracy: 0.9194 - val_loss: 0.3001 - val_accuracy: 0.8750\n",
      "Epoch 66/300\n",
      "4/4 [==============================] - 0s 15ms/step - loss: 0.1711 - accuracy: 0.9113 - val_loss: 0.2951 - val_accuracy: 0.8750\n",
      "Epoch 67/300\n",
      "4/4 [==============================] - 0s 14ms/step - loss: 0.1684 - accuracy: 0.9113 - val_loss: 0.2920 - val_accuracy: 0.8750\n",
      "Epoch 68/300\n",
      "4/4 [==============================] - 0s 13ms/step - loss: 0.1636 - accuracy: 0.9194 - val_loss: 0.2896 - val_accuracy: 0.8750\n",
      "Epoch 69/300\n",
      "4/4 [==============================] - 0s 12ms/step - loss: 0.1597 - accuracy: 0.9194 - val_loss: 0.2883 - val_accuracy: 0.8750\n",
      "Epoch 70/300\n",
      "4/4 [==============================] - 0s 13ms/step - loss: 0.1569 - accuracy: 0.9194 - val_loss: 0.2861 - val_accuracy: 0.8750\n",
      "Epoch 71/300\n",
      "4/4 [==============================] - 0s 13ms/step - loss: 0.1535 - accuracy: 0.9274 - val_loss: 0.2802 - val_accuracy: 0.8750\n",
      "Epoch 72/300\n",
      "4/4 [==============================] - 0s 14ms/step - loss: 0.1535 - accuracy: 0.9194 - val_loss: 0.2774 - val_accuracy: 0.8750\n",
      "Epoch 73/300\n",
      "4/4 [==============================] - 0s 12ms/step - loss: 0.1448 - accuracy: 0.9274 - val_loss: 0.2795 - val_accuracy: 0.9062\n",
      "Epoch 74/300\n",
      "4/4 [==============================] - 0s 11ms/step - loss: 0.1485 - accuracy: 0.9355 - val_loss: 0.2794 - val_accuracy: 0.8438\n",
      "Epoch 75/300\n",
      "4/4 [==============================] - 0s 13ms/step - loss: 0.1436 - accuracy: 0.9355 - val_loss: 0.2650 - val_accuracy: 0.8750\n",
      "Epoch 76/300\n",
      "4/4 [==============================] - 0s 12ms/step - loss: 0.1411 - accuracy: 0.9274 - val_loss: 0.2613 - val_accuracy: 0.8750\n",
      "Epoch 77/300\n",
      "4/4 [==============================] - 0s 12ms/step - loss: 0.1358 - accuracy: 0.9194 - val_loss: 0.2676 - val_accuracy: 0.8438\n",
      "Epoch 78/300\n",
      "4/4 [==============================] - 0s 14ms/step - loss: 0.1334 - accuracy: 0.9435 - val_loss: 0.2643 - val_accuracy: 0.8750\n",
      "Epoch 79/300\n",
      "4/4 [==============================] - 0s 13ms/step - loss: 0.1283 - accuracy: 0.9435 - val_loss: 0.2550 - val_accuracy: 0.8750\n",
      "Epoch 80/300\n",
      "4/4 [==============================] - 0s 12ms/step - loss: 0.1290 - accuracy: 0.9355 - val_loss: 0.2527 - val_accuracy: 0.8750\n",
      "Epoch 81/300\n",
      "4/4 [==============================] - 0s 12ms/step - loss: 0.1248 - accuracy: 0.9274 - val_loss: 0.2497 - val_accuracy: 0.9062\n",
      "Epoch 82/300\n",
      "4/4 [==============================] - 0s 12ms/step - loss: 0.1192 - accuracy: 0.9355 - val_loss: 0.2504 - val_accuracy: 0.8750\n",
      "Epoch 83/300\n",
      "4/4 [==============================] - 0s 12ms/step - loss: 0.1220 - accuracy: 0.9516 - val_loss: 0.2537 - val_accuracy: 0.8750\n",
      "Epoch 84/300\n",
      "4/4 [==============================] - 0s 13ms/step - loss: 0.1195 - accuracy: 0.9516 - val_loss: 0.2371 - val_accuracy: 0.8750\n",
      "Epoch 85/300\n",
      "4/4 [==============================] - 0s 13ms/step - loss: 0.1147 - accuracy: 0.9435 - val_loss: 0.2339 - val_accuracy: 0.8750\n",
      "Epoch 86/300\n",
      "4/4 [==============================] - 0s 11ms/step - loss: 0.1100 - accuracy: 0.9516 - val_loss: 0.2401 - val_accuracy: 0.9062\n",
      "Epoch 87/300\n",
      "4/4 [==============================] - 0s 12ms/step - loss: 0.1096 - accuracy: 0.9597 - val_loss: 0.2356 - val_accuracy: 0.9062\n",
      "Epoch 88/300\n",
      "4/4 [==============================] - 0s 12ms/step - loss: 0.1039 - accuracy: 0.9516 - val_loss: 0.2259 - val_accuracy: 0.8750\n",
      "Epoch 89/300\n",
      "4/4 [==============================] - 0s 14ms/step - loss: 0.1032 - accuracy: 0.9435 - val_loss: 0.2218 - val_accuracy: 0.8750\n",
      "Epoch 90/300\n",
      "4/4 [==============================] - 0s 12ms/step - loss: 0.1009 - accuracy: 0.9597 - val_loss: 0.2215 - val_accuracy: 0.9062\n",
      "Epoch 91/300\n",
      "4/4 [==============================] - 0s 12ms/step - loss: 0.0979 - accuracy: 0.9597 - val_loss: 0.2192 - val_accuracy: 0.9062\n",
      "Epoch 92/300\n",
      "4/4 [==============================] - 0s 12ms/step - loss: 0.0958 - accuracy: 0.9597 - val_loss: 0.2128 - val_accuracy: 0.9375\n",
      "Epoch 93/300\n",
      "4/4 [==============================] - 0s 13ms/step - loss: 0.0943 - accuracy: 0.9516 - val_loss: 0.2126 - val_accuracy: 0.9375\n",
      "Epoch 94/300\n",
      "4/4 [==============================] - 0s 12ms/step - loss: 0.0937 - accuracy: 0.9597 - val_loss: 0.2097 - val_accuracy: 0.9375\n",
      "Epoch 95/300\n",
      "4/4 [==============================] - 0s 13ms/step - loss: 0.0895 - accuracy: 0.9677 - val_loss: 0.2043 - val_accuracy: 0.9062\n",
      "Epoch 96/300\n",
      "4/4 [==============================] - 0s 12ms/step - loss: 0.0893 - accuracy: 0.9597 - val_loss: 0.2009 - val_accuracy: 0.9375\n",
      "Epoch 97/300\n",
      "4/4 [==============================] - 0s 13ms/step - loss: 0.0846 - accuracy: 0.9677 - val_loss: 0.2045 - val_accuracy: 0.9062\n",
      "Epoch 98/300\n",
      "4/4 [==============================] - 0s 12ms/step - loss: 0.0845 - accuracy: 0.9677 - val_loss: 0.2010 - val_accuracy: 0.9062\n",
      "Epoch 99/300\n",
      "4/4 [==============================] - 0s 12ms/step - loss: 0.0797 - accuracy: 0.9758 - val_loss: 0.1924 - val_accuracy: 0.9375\n",
      "Epoch 100/300\n",
      "4/4 [==============================] - 0s 12ms/step - loss: 0.0788 - accuracy: 0.9758 - val_loss: 0.1894 - val_accuracy: 0.9375\n",
      "Epoch 101/300\n",
      "4/4 [==============================] - 0s 13ms/step - loss: 0.0795 - accuracy: 0.9677 - val_loss: 0.1876 - val_accuracy: 0.9375\n",
      "Epoch 102/300\n",
      "4/4 [==============================] - 0s 13ms/step - loss: 0.0742 - accuracy: 0.9839 - val_loss: 0.1798 - val_accuracy: 0.9375\n",
      "Epoch 103/300\n",
      "4/4 [==============================] - 0s 13ms/step - loss: 0.0732 - accuracy: 0.9839 - val_loss: 0.1763 - val_accuracy: 0.9375\n",
      "Epoch 104/300\n",
      "4/4 [==============================] - 0s 12ms/step - loss: 0.0707 - accuracy: 0.9758 - val_loss: 0.1752 - val_accuracy: 0.9375\n",
      "Epoch 105/300\n",
      "4/4 [==============================] - 0s 12ms/step - loss: 0.0733 - accuracy: 0.9758 - val_loss: 0.1787 - val_accuracy: 0.9375\n",
      "Epoch 106/300\n",
      "4/4 [==============================] - 0s 13ms/step - loss: 0.0730 - accuracy: 0.9758 - val_loss: 0.1694 - val_accuracy: 0.9375\n",
      "Epoch 107/300\n",
      "4/4 [==============================] - 0s 13ms/step - loss: 0.0652 - accuracy: 0.9758 - val_loss: 0.1708 - val_accuracy: 0.9688\n",
      "Epoch 108/300\n",
      "4/4 [==============================] - 0s 12ms/step - loss: 0.0674 - accuracy: 0.9919 - val_loss: 0.1721 - val_accuracy: 0.9375\n",
      "Epoch 109/300\n",
      "4/4 [==============================] - 0s 14ms/step - loss: 0.0615 - accuracy: 0.9919 - val_loss: 0.1585 - val_accuracy: 0.9375\n",
      "Epoch 110/300\n",
      "4/4 [==============================] - 0s 13ms/step - loss: 0.0623 - accuracy: 0.9758 - val_loss: 0.1574 - val_accuracy: 0.9062\n",
      "Epoch 111/300\n",
      "4/4 [==============================] - 0s 12ms/step - loss: 0.0601 - accuracy: 0.9758 - val_loss: 0.1545 - val_accuracy: 0.9688\n",
      "Epoch 112/300\n",
      "4/4 [==============================] - 0s 12ms/step - loss: 0.0558 - accuracy: 0.9919 - val_loss: 0.1664 - val_accuracy: 0.9688\n",
      "Epoch 113/300\n",
      "4/4 [==============================] - 0s 14ms/step - loss: 0.0574 - accuracy: 0.9919 - val_loss: 0.1496 - val_accuracy: 0.9688\n",
      "Epoch 114/300\n",
      "4/4 [==============================] - 0s 15ms/step - loss: 0.0542 - accuracy: 0.9919 - val_loss: 0.1412 - val_accuracy: 0.9375\n",
      "Epoch 115/300\n",
      "4/4 [==============================] - 0s 14ms/step - loss: 0.0537 - accuracy: 0.9758 - val_loss: 0.1381 - val_accuracy: 0.9688\n",
      "Epoch 116/300\n",
      "4/4 [==============================] - 0s 12ms/step - loss: 0.0534 - accuracy: 0.9919 - val_loss: 0.1407 - val_accuracy: 1.0000\n",
      "Epoch 117/300\n",
      "4/4 [==============================] - 0s 13ms/step - loss: 0.0500 - accuracy: 0.9919 - val_loss: 0.1349 - val_accuracy: 0.9688\n",
      "Epoch 118/300\n",
      "4/4 [==============================] - 0s 12ms/step - loss: 0.0495 - accuracy: 0.9839 - val_loss: 0.1334 - val_accuracy: 0.9688\n",
      "Epoch 119/300\n",
      "4/4 [==============================] - 0s 14ms/step - loss: 0.0467 - accuracy: 0.9919 - val_loss: 0.1359 - val_accuracy: 1.0000\n",
      "Epoch 120/300\n",
      "4/4 [==============================] - 0s 19ms/step - loss: 0.0455 - accuracy: 0.9919 - val_loss: 0.1290 - val_accuracy: 0.9688\n",
      "Epoch 121/300\n",
      "4/4 [==============================] - 0s 15ms/step - loss: 0.0449 - accuracy: 0.9919 - val_loss: 0.1252 - val_accuracy: 0.9688\n",
      "Epoch 122/300\n",
      "4/4 [==============================] - 0s 14ms/step - loss: 0.0445 - accuracy: 0.9839 - val_loss: 0.1296 - val_accuracy: 1.0000\n",
      "Epoch 123/300\n",
      "4/4 [==============================] - 0s 13ms/step - loss: 0.0433 - accuracy: 0.9919 - val_loss: 0.1276 - val_accuracy: 1.0000\n",
      "Epoch 124/300\n",
      "4/4 [==============================] - 0s 16ms/step - loss: 0.0407 - accuracy: 0.9919 - val_loss: 0.1184 - val_accuracy: 0.9688\n",
      "Epoch 125/300\n",
      "4/4 [==============================] - 0s 13ms/step - loss: 0.0411 - accuracy: 0.9839 - val_loss: 0.1176 - val_accuracy: 0.9375\n",
      "Epoch 126/300\n",
      "4/4 [==============================] - 0s 13ms/step - loss: 0.0390 - accuracy: 0.9839 - val_loss: 0.1163 - val_accuracy: 1.0000\n",
      "Epoch 127/300\n",
      "4/4 [==============================] - 0s 12ms/step - loss: 0.0396 - accuracy: 0.9919 - val_loss: 0.1191 - val_accuracy: 1.0000\n",
      "Epoch 128/300\n",
      "4/4 [==============================] - 0s 13ms/step - loss: 0.0364 - accuracy: 0.9919 - val_loss: 0.1096 - val_accuracy: 0.9688\n",
      "Epoch 129/300\n",
      "4/4 [==============================] - 0s 12ms/step - loss: 0.0376 - accuracy: 0.9919 - val_loss: 0.1089 - val_accuracy: 0.9688\n",
      "Epoch 130/300\n",
      "4/4 [==============================] - 0s 12ms/step - loss: 0.0350 - accuracy: 1.0000 - val_loss: 0.1116 - val_accuracy: 1.0000\n",
      "Epoch 131/300\n",
      "4/4 [==============================] - 0s 12ms/step - loss: 0.0353 - accuracy: 0.9919 - val_loss: 0.1175 - val_accuracy: 1.0000\n",
      "Epoch 132/300\n",
      "4/4 [==============================] - 0s 12ms/step - loss: 0.0340 - accuracy: 0.9919 - val_loss: 0.1032 - val_accuracy: 1.0000\n",
      "Epoch 133/300\n",
      "4/4 [==============================] - 0s 12ms/step - loss: 0.0323 - accuracy: 1.0000 - val_loss: 0.1006 - val_accuracy: 1.0000\n",
      "Epoch 134/300\n",
      "4/4 [==============================] - 0s 12ms/step - loss: 0.0314 - accuracy: 1.0000 - val_loss: 0.0999 - val_accuracy: 1.0000\n",
      "Epoch 135/300\n",
      "4/4 [==============================] - 0s 13ms/step - loss: 0.0306 - accuracy: 0.9919 - val_loss: 0.0976 - val_accuracy: 1.0000\n",
      "Epoch 136/300\n",
      "4/4 [==============================] - 0s 12ms/step - loss: 0.0296 - accuracy: 0.9919 - val_loss: 0.0941 - val_accuracy: 1.0000\n",
      "Epoch 137/300\n",
      "4/4 [==============================] - 0s 12ms/step - loss: 0.0289 - accuracy: 1.0000 - val_loss: 0.0921 - val_accuracy: 1.0000\n",
      "Epoch 138/300\n",
      "4/4 [==============================] - 0s 12ms/step - loss: 0.0278 - accuracy: 1.0000 - val_loss: 0.0910 - val_accuracy: 1.0000\n",
      "Epoch 139/300\n",
      "4/4 [==============================] - 0s 13ms/step - loss: 0.0317 - accuracy: 0.9919 - val_loss: 0.0949 - val_accuracy: 1.0000\n",
      "Epoch 140/300\n",
      "4/4 [==============================] - 0s 12ms/step - loss: 0.0260 - accuracy: 1.0000 - val_loss: 0.0901 - val_accuracy: 0.9688\n",
      "Epoch 141/300\n",
      "4/4 [==============================] - 0s 12ms/step - loss: 0.0283 - accuracy: 1.0000 - val_loss: 0.0853 - val_accuracy: 1.0000\n",
      "Epoch 142/300\n",
      "4/4 [==============================] - 0s 13ms/step - loss: 0.0255 - accuracy: 1.0000 - val_loss: 0.0892 - val_accuracy: 1.0000\n",
      "Epoch 143/300\n",
      "4/4 [==============================] - 0s 12ms/step - loss: 0.0279 - accuracy: 0.9919 - val_loss: 0.0932 - val_accuracy: 1.0000\n",
      "Epoch 144/300\n",
      "4/4 [==============================] - 0s 11ms/step - loss: 0.0247 - accuracy: 1.0000 - val_loss: 0.0811 - val_accuracy: 0.9688\n",
      "Epoch 145/300\n",
      "4/4 [==============================] - 0s 12ms/step - loss: 0.0252 - accuracy: 1.0000 - val_loss: 0.0791 - val_accuracy: 1.0000\n",
      "Epoch 146/300\n",
      "4/4 [==============================] - 0s 12ms/step - loss: 0.0232 - accuracy: 1.0000 - val_loss: 0.0779 - val_accuracy: 1.0000\n",
      "Epoch 147/300\n",
      "4/4 [==============================] - 0s 11ms/step - loss: 0.0221 - accuracy: 1.0000 - val_loss: 0.0805 - val_accuracy: 1.0000\n",
      "Epoch 148/300\n",
      "4/4 [==============================] - 0s 13ms/step - loss: 0.0217 - accuracy: 1.0000 - val_loss: 0.0790 - val_accuracy: 0.9688\n",
      "Epoch 149/300\n",
      "4/4 [==============================] - 0s 12ms/step - loss: 0.0218 - accuracy: 1.0000 - val_loss: 0.0775 - val_accuracy: 1.0000\n",
      "Epoch 150/300\n",
      "4/4 [==============================] - 0s 12ms/step - loss: 0.0219 - accuracy: 1.0000 - val_loss: 0.0747 - val_accuracy: 0.9688\n",
      "Epoch 151/300\n",
      "4/4 [==============================] - 0s 12ms/step - loss: 0.0215 - accuracy: 1.0000 - val_loss: 0.0798 - val_accuracy: 1.0000\n",
      "Epoch 152/300\n",
      "4/4 [==============================] - 0s 14ms/step - loss: 0.0202 - accuracy: 1.0000 - val_loss: 0.0765 - val_accuracy: 1.0000\n",
      "Epoch 153/300\n",
      "4/4 [==============================] - 0s 13ms/step - loss: 0.0196 - accuracy: 1.0000 - val_loss: 0.0711 - val_accuracy: 0.9688\n",
      "Epoch 154/300\n",
      "4/4 [==============================] - 0s 13ms/step - loss: 0.0184 - accuracy: 1.0000 - val_loss: 0.0715 - val_accuracy: 1.0000\n",
      "Epoch 155/300\n",
      "4/4 [==============================] - 0s 14ms/step - loss: 0.0181 - accuracy: 1.0000 - val_loss: 0.0751 - val_accuracy: 1.0000\n",
      "Epoch 156/300\n",
      "4/4 [==============================] - 0s 14ms/step - loss: 0.0173 - accuracy: 1.0000 - val_loss: 0.0704 - val_accuracy: 0.9688\n",
      "Epoch 157/300\n",
      "4/4 [==============================] - 0s 14ms/step - loss: 0.0176 - accuracy: 1.0000 - val_loss: 0.0693 - val_accuracy: 1.0000\n",
      "Epoch 158/300\n",
      "4/4 [==============================] - 0s 13ms/step - loss: 0.0165 - accuracy: 1.0000 - val_loss: 0.0676 - val_accuracy: 0.9688\n",
      "Epoch 159/300\n",
      "4/4 [==============================] - 0s 15ms/step - loss: 0.0178 - accuracy: 1.0000 - val_loss: 0.0668 - val_accuracy: 1.0000\n",
      "Epoch 160/300\n",
      "4/4 [==============================] - 0s 13ms/step - loss: 0.0169 - accuracy: 1.0000 - val_loss: 0.0863 - val_accuracy: 1.0000\n",
      "Epoch 161/300\n",
      "4/4 [==============================] - 0s 13ms/step - loss: 0.0171 - accuracy: 1.0000 - val_loss: 0.0656 - val_accuracy: 1.0000\n",
      "Epoch 162/300\n",
      "4/4 [==============================] - 0s 14ms/step - loss: 0.0150 - accuracy: 1.0000 - val_loss: 0.0654 - val_accuracy: 0.9688\n",
      "Epoch 163/300\n",
      "4/4 [==============================] - 0s 13ms/step - loss: 0.0150 - accuracy: 1.0000 - val_loss: 0.0652 - val_accuracy: 1.0000\n",
      "Epoch 164/300\n",
      "4/4 [==============================] - 0s 13ms/step - loss: 0.0142 - accuracy: 1.0000 - val_loss: 0.0663 - val_accuracy: 1.0000\n",
      "Epoch 165/300\n",
      "4/4 [==============================] - 0s 12ms/step - loss: 0.0136 - accuracy: 1.0000 - val_loss: 0.0675 - val_accuracy: 1.0000\n",
      "Epoch 166/300\n",
      "4/4 [==============================] - 0s 12ms/step - loss: 0.0132 - accuracy: 1.0000 - val_loss: 0.0643 - val_accuracy: 1.0000\n",
      "Epoch 167/300\n",
      "4/4 [==============================] - 0s 13ms/step - loss: 0.0137 - accuracy: 1.0000 - val_loss: 0.0631 - val_accuracy: 0.9688\n",
      "Epoch 168/300\n",
      "4/4 [==============================] - 0s 13ms/step - loss: 0.0127 - accuracy: 1.0000 - val_loss: 0.0673 - val_accuracy: 1.0000\n",
      "Epoch 169/300\n",
      "4/4 [==============================] - 0s 13ms/step - loss: 0.0126 - accuracy: 1.0000 - val_loss: 0.0623 - val_accuracy: 1.0000\n",
      "Epoch 170/300\n",
      "4/4 [==============================] - 0s 12ms/step - loss: 0.0124 - accuracy: 1.0000 - val_loss: 0.0599 - val_accuracy: 0.9688\n",
      "Epoch 171/300\n",
      "4/4 [==============================] - 0s 13ms/step - loss: 0.0118 - accuracy: 1.0000 - val_loss: 0.0632 - val_accuracy: 1.0000\n",
      "Epoch 172/300\n",
      "4/4 [==============================] - 0s 14ms/step - loss: 0.0111 - accuracy: 1.0000 - val_loss: 0.0603 - val_accuracy: 1.0000\n",
      "Epoch 173/300\n",
      "4/4 [==============================] - 0s 13ms/step - loss: 0.0111 - accuracy: 1.0000 - val_loss: 0.0579 - val_accuracy: 0.9688\n",
      "Epoch 174/300\n",
      "4/4 [==============================] - 0s 12ms/step - loss: 0.0106 - accuracy: 1.0000 - val_loss: 0.0589 - val_accuracy: 1.0000\n",
      "Epoch 175/300\n",
      "4/4 [==============================] - 0s 13ms/step - loss: 0.0107 - accuracy: 1.0000 - val_loss: 0.0565 - val_accuracy: 1.0000\n",
      "Epoch 176/300\n",
      "4/4 [==============================] - 0s 13ms/step - loss: 0.0098 - accuracy: 1.0000 - val_loss: 0.0588 - val_accuracy: 1.0000\n",
      "Epoch 177/300\n",
      "4/4 [==============================] - 0s 12ms/step - loss: 0.0103 - accuracy: 1.0000 - val_loss: 0.0603 - val_accuracy: 1.0000\n",
      "Epoch 178/300\n",
      "4/4 [==============================] - 0s 12ms/step - loss: 0.0094 - accuracy: 1.0000 - val_loss: 0.0547 - val_accuracy: 0.9688\n",
      "Epoch 179/300\n",
      "4/4 [==============================] - 0s 13ms/step - loss: 0.0117 - accuracy: 1.0000 - val_loss: 0.0541 - val_accuracy: 0.9688\n",
      "Epoch 180/300\n",
      "4/4 [==============================] - 0s 13ms/step - loss: 0.0084 - accuracy: 1.0000 - val_loss: 0.0695 - val_accuracy: 1.0000\n",
      "Epoch 181/300\n",
      "4/4 [==============================] - 0s 12ms/step - loss: 0.0106 - accuracy: 1.0000 - val_loss: 0.0699 - val_accuracy: 1.0000\n",
      "Epoch 182/300\n",
      "4/4 [==============================] - 0s 12ms/step - loss: 0.0099 - accuracy: 1.0000 - val_loss: 0.0543 - val_accuracy: 0.9688\n",
      "Epoch 183/300\n",
      "4/4 [==============================] - 0s 13ms/step - loss: 0.0087 - accuracy: 1.0000 - val_loss: 0.0566 - val_accuracy: 1.0000\n",
      "Epoch 184/300\n",
      "4/4 [==============================] - 0s 14ms/step - loss: 0.0086 - accuracy: 1.0000 - val_loss: 0.0555 - val_accuracy: 0.9688\n",
      "Epoch 185/300\n",
      "4/4 [==============================] - 0s 13ms/step - loss: 0.0077 - accuracy: 1.0000 - val_loss: 0.0573 - val_accuracy: 1.0000\n",
      "Epoch 186/300\n",
      "4/4 [==============================] - 0s 14ms/step - loss: 0.0078 - accuracy: 1.0000 - val_loss: 0.0577 - val_accuracy: 1.0000\n",
      "Epoch 187/300\n",
      "4/4 [==============================] - 0s 14ms/step - loss: 0.0076 - accuracy: 1.0000 - val_loss: 0.0543 - val_accuracy: 1.0000\n",
      "Epoch 188/300\n",
      "4/4 [==============================] - 0s 13ms/step - loss: 0.0074 - accuracy: 1.0000 - val_loss: 0.0547 - val_accuracy: 1.0000\n",
      "Epoch 189/300\n",
      "4/4 [==============================] - 0s 15ms/step - loss: 0.0079 - accuracy: 1.0000 - val_loss: 0.0546 - val_accuracy: 0.9688\n",
      "Epoch 190/300\n",
      "4/4 [==============================] - 0s 13ms/step - loss: 0.0069 - accuracy: 1.0000 - val_loss: 0.0661 - val_accuracy: 1.0000\n",
      "Epoch 191/300\n",
      "4/4 [==============================] - 0s 12ms/step - loss: 0.0077 - accuracy: 1.0000 - val_loss: 0.0650 - val_accuracy: 1.0000\n",
      "Epoch 192/300\n",
      "4/4 [==============================] - 0s 13ms/step - loss: 0.0071 - accuracy: 1.0000 - val_loss: 0.0562 - val_accuracy: 0.9688\n",
      "Epoch 193/300\n",
      "4/4 [==============================] - 0s 13ms/step - loss: 0.0070 - accuracy: 1.0000 - val_loss: 0.0549 - val_accuracy: 0.9688\n",
      "Epoch 194/300\n",
      "4/4 [==============================] - 0s 12ms/step - loss: 0.0065 - accuracy: 1.0000 - val_loss: 0.0570 - val_accuracy: 0.9688\n",
      "Epoch 195/300\n",
      "4/4 [==============================] - 0s 12ms/step - loss: 0.0062 - accuracy: 1.0000 - val_loss: 0.0584 - val_accuracy: 1.0000\n",
      "Epoch 196/300\n",
      "4/4 [==============================] - 0s 12ms/step - loss: 0.0061 - accuracy: 1.0000 - val_loss: 0.0572 - val_accuracy: 1.0000\n",
      "Epoch 197/300\n",
      "4/4 [==============================] - 0s 12ms/step - loss: 0.0059 - accuracy: 1.0000 - val_loss: 0.0546 - val_accuracy: 0.9688\n",
      "Epoch 198/300\n",
      "4/4 [==============================] - 0s 12ms/step - loss: 0.0058 - accuracy: 1.0000 - val_loss: 0.0543 - val_accuracy: 0.9688\n",
      "Epoch 199/300\n",
      "4/4 [==============================] - 0s 12ms/step - loss: 0.0061 - accuracy: 1.0000 - val_loss: 0.0538 - val_accuracy: 0.9688\n",
      "Epoch 200/300\n",
      "4/4 [==============================] - 0s 11ms/step - loss: 0.0056 - accuracy: 1.0000 - val_loss: 0.0580 - val_accuracy: 0.9688\n",
      "Epoch 201/300\n",
      "4/4 [==============================] - 0s 11ms/step - loss: 0.0054 - accuracy: 1.0000 - val_loss: 0.0587 - val_accuracy: 1.0000\n",
      "Epoch 202/300\n",
      "4/4 [==============================] - 0s 14ms/step - loss: 0.0053 - accuracy: 1.0000 - val_loss: 0.0550 - val_accuracy: 0.9688\n",
      "Epoch 203/300\n",
      "4/4 [==============================] - 0s 13ms/step - loss: 0.0052 - accuracy: 1.0000 - val_loss: 0.0550 - val_accuracy: 0.9688\n",
      "Epoch 204/300\n",
      "4/4 [==============================] - 0s 13ms/step - loss: 0.0051 - accuracy: 1.0000 - val_loss: 0.0559 - val_accuracy: 0.9688\n",
      "Epoch 205/300\n",
      "4/4 [==============================] - 0s 13ms/step - loss: 0.0049 - accuracy: 1.0000 - val_loss: 0.0570 - val_accuracy: 0.9688\n",
      "Epoch 206/300\n",
      "4/4 [==============================] - 0s 12ms/step - loss: 0.0049 - accuracy: 1.0000 - val_loss: 0.0558 - val_accuracy: 0.9688\n",
      "Epoch 207/300\n",
      "4/4 [==============================] - 0s 12ms/step - loss: 0.0049 - accuracy: 1.0000 - val_loss: 0.0556 - val_accuracy: 0.9688\n",
      "Epoch 208/300\n",
      "4/4 [==============================] - 0s 11ms/step - loss: 0.0048 - accuracy: 1.0000 - val_loss: 0.0590 - val_accuracy: 1.0000\n",
      "Epoch 209/300\n",
      "4/4 [==============================] - 0s 12ms/step - loss: 0.0048 - accuracy: 1.0000 - val_loss: 0.0577 - val_accuracy: 1.0000\n",
      "Epoch 210/300\n",
      "4/4 [==============================] - 0s 12ms/step - loss: 0.0044 - accuracy: 1.0000 - val_loss: 0.0537 - val_accuracy: 0.9688\n",
      "Epoch 211/300\n",
      "4/4 [==============================] - 0s 13ms/step - loss: 0.0044 - accuracy: 1.0000 - val_loss: 0.0528 - val_accuracy: 0.9688\n",
      "Epoch 212/300\n",
      "4/4 [==============================] - 0s 12ms/step - loss: 0.0043 - accuracy: 1.0000 - val_loss: 0.0538 - val_accuracy: 0.9688\n",
      "Epoch 213/300\n",
      "4/4 [==============================] - 0s 12ms/step - loss: 0.0042 - accuracy: 1.0000 - val_loss: 0.0545 - val_accuracy: 0.9688\n",
      "Epoch 214/300\n",
      "4/4 [==============================] - 0s 12ms/step - loss: 0.0043 - accuracy: 1.0000 - val_loss: 0.0582 - val_accuracy: 1.0000\n",
      "Epoch 215/300\n",
      "4/4 [==============================] - 0s 12ms/step - loss: 0.0041 - accuracy: 1.0000 - val_loss: 0.0546 - val_accuracy: 0.9688\n",
      "Epoch 216/300\n",
      "4/4 [==============================] - 0s 12ms/step - loss: 0.0039 - accuracy: 1.0000 - val_loss: 0.0549 - val_accuracy: 0.9688\n",
      "Epoch 217/300\n",
      "4/4 [==============================] - 0s 12ms/step - loss: 0.0039 - accuracy: 1.0000 - val_loss: 0.0554 - val_accuracy: 0.9688\n",
      "Epoch 218/300\n",
      "4/4 [==============================] - 0s 12ms/step - loss: 0.0038 - accuracy: 1.0000 - val_loss: 0.0561 - val_accuracy: 0.9688\n",
      "Epoch 219/300\n",
      "4/4 [==============================] - 0s 12ms/step - loss: 0.0036 - accuracy: 1.0000 - val_loss: 0.0592 - val_accuracy: 0.9688\n",
      "Epoch 220/300\n",
      "4/4 [==============================] - 0s 12ms/step - loss: 0.0039 - accuracy: 1.0000 - val_loss: 0.0598 - val_accuracy: 0.9688\n",
      "Epoch 221/300\n",
      "4/4 [==============================] - 0s 11ms/step - loss: 0.0037 - accuracy: 1.0000 - val_loss: 0.0562 - val_accuracy: 0.9688\n",
      "Epoch 222/300\n",
      "4/4 [==============================] - 0s 11ms/step - loss: 0.0041 - accuracy: 1.0000 - val_loss: 0.0558 - val_accuracy: 0.9688\n",
      "Epoch 223/300\n",
      "4/4 [==============================] - 0s 11ms/step - loss: 0.0034 - accuracy: 1.0000 - val_loss: 0.0563 - val_accuracy: 0.9688\n",
      "Epoch 224/300\n",
      "4/4 [==============================] - 0s 11ms/step - loss: 0.0036 - accuracy: 1.0000 - val_loss: 0.0621 - val_accuracy: 1.0000\n",
      "Epoch 225/300\n",
      "4/4 [==============================] - 0s 11ms/step - loss: 0.0037 - accuracy: 1.0000 - val_loss: 0.0583 - val_accuracy: 0.9688\n",
      "Epoch 226/300\n",
      "4/4 [==============================] - 0s 11ms/step - loss: 0.0035 - accuracy: 1.0000 - val_loss: 0.0550 - val_accuracy: 0.9688\n",
      "Epoch 227/300\n",
      "4/4 [==============================] - 0s 12ms/step - loss: 0.0032 - accuracy: 1.0000 - val_loss: 0.0552 - val_accuracy: 0.9688\n",
      "Epoch 228/300\n",
      "4/4 [==============================] - 0s 11ms/step - loss: 0.0031 - accuracy: 1.0000 - val_loss: 0.0575 - val_accuracy: 0.9688\n",
      "Epoch 229/300\n",
      "4/4 [==============================] - 0s 12ms/step - loss: 0.0031 - accuracy: 1.0000 - val_loss: 0.0571 - val_accuracy: 0.9688\n",
      "Epoch 230/300\n",
      "4/4 [==============================] - 0s 12ms/step - loss: 0.0030 - accuracy: 1.0000 - val_loss: 0.0559 - val_accuracy: 0.9688\n",
      "Epoch 231/300\n",
      "4/4 [==============================] - 0s 12ms/step - loss: 0.0029 - accuracy: 1.0000 - val_loss: 0.0550 - val_accuracy: 0.9688\n",
      "Epoch 232/300\n",
      "4/4 [==============================] - 0s 12ms/step - loss: 0.0028 - accuracy: 1.0000 - val_loss: 0.0542 - val_accuracy: 0.9688\n",
      "Epoch 233/300\n",
      "4/4 [==============================] - 0s 12ms/step - loss: 0.0028 - accuracy: 1.0000 - val_loss: 0.0544 - val_accuracy: 0.9688\n",
      "Epoch 234/300\n",
      "4/4 [==============================] - 0s 11ms/step - loss: 0.0028 - accuracy: 1.0000 - val_loss: 0.0538 - val_accuracy: 0.9688\n",
      "Epoch 235/300\n",
      "4/4 [==============================] - 0s 12ms/step - loss: 0.0028 - accuracy: 1.0000 - val_loss: 0.0552 - val_accuracy: 0.9688\n",
      "Epoch 236/300\n",
      "4/4 [==============================] - 0s 13ms/step - loss: 0.0027 - accuracy: 1.0000 - val_loss: 0.0534 - val_accuracy: 0.9688\n",
      "Epoch 237/300\n",
      "4/4 [==============================] - 0s 13ms/step - loss: 0.0027 - accuracy: 1.0000 - val_loss: 0.0527 - val_accuracy: 0.9688\n",
      "Epoch 238/300\n",
      "4/4 [==============================] - 0s 13ms/step - loss: 0.0026 - accuracy: 1.0000 - val_loss: 0.0535 - val_accuracy: 0.9688\n",
      "Epoch 239/300\n",
      "4/4 [==============================] - 0s 12ms/step - loss: 0.0025 - accuracy: 1.0000 - val_loss: 0.0541 - val_accuracy: 0.9688\n",
      "Epoch 240/300\n",
      "4/4 [==============================] - 0s 14ms/step - loss: 0.0026 - accuracy: 1.0000 - val_loss: 0.0544 - val_accuracy: 0.9688\n",
      "Epoch 241/300\n",
      "4/4 [==============================] - 0s 12ms/step - loss: 0.0024 - accuracy: 1.0000 - val_loss: 0.0534 - val_accuracy: 0.9688\n",
      "Epoch 242/300\n",
      "4/4 [==============================] - 0s 12ms/step - loss: 0.0025 - accuracy: 1.0000 - val_loss: 0.0539 - val_accuracy: 0.9688\n",
      "Epoch 243/300\n",
      "4/4 [==============================] - 0s 12ms/step - loss: 0.0024 - accuracy: 1.0000 - val_loss: 0.0540 - val_accuracy: 0.9688\n",
      "Epoch 244/300\n",
      "4/4 [==============================] - 0s 12ms/step - loss: 0.0024 - accuracy: 1.0000 - val_loss: 0.0541 - val_accuracy: 0.9688\n",
      "Epoch 245/300\n",
      "4/4 [==============================] - 0s 13ms/step - loss: 0.0024 - accuracy: 1.0000 - val_loss: 0.0564 - val_accuracy: 0.9688\n",
      "Epoch 246/300\n",
      "4/4 [==============================] - 0s 14ms/step - loss: 0.0023 - accuracy: 1.0000 - val_loss: 0.0563 - val_accuracy: 0.9688\n",
      "Epoch 247/300\n",
      "4/4 [==============================] - 0s 13ms/step - loss: 0.0023 - accuracy: 1.0000 - val_loss: 0.0545 - val_accuracy: 0.9688\n",
      "Epoch 248/300\n",
      "4/4 [==============================] - 0s 12ms/step - loss: 0.0022 - accuracy: 1.0000 - val_loss: 0.0547 - val_accuracy: 0.9688\n",
      "Epoch 249/300\n",
      "4/4 [==============================] - 0s 13ms/step - loss: 0.0022 - accuracy: 1.0000 - val_loss: 0.0548 - val_accuracy: 0.9688\n",
      "Epoch 250/300\n",
      "4/4 [==============================] - 0s 14ms/step - loss: 0.0021 - accuracy: 1.0000 - val_loss: 0.0541 - val_accuracy: 0.9688\n",
      "Epoch 251/300\n",
      "4/4 [==============================] - 0s 19ms/step - loss: 0.0022 - accuracy: 1.0000 - val_loss: 0.0527 - val_accuracy: 0.9688\n",
      "Epoch 252/300\n",
      "4/4 [==============================] - 0s 11ms/step - loss: 0.0021 - accuracy: 1.0000 - val_loss: 0.0533 - val_accuracy: 0.9688\n",
      "Epoch 253/300\n",
      "4/4 [==============================] - 0s 11ms/step - loss: 0.0021 - accuracy: 1.0000 - val_loss: 0.0546 - val_accuracy: 0.9688\n",
      "Epoch 254/300\n",
      "4/4 [==============================] - 0s 12ms/step - loss: 0.0021 - accuracy: 1.0000 - val_loss: 0.0539 - val_accuracy: 0.9688\n",
      "Epoch 255/300\n",
      "4/4 [==============================] - 0s 11ms/step - loss: 0.0019 - accuracy: 1.0000 - val_loss: 0.0551 - val_accuracy: 0.9688\n",
      "Epoch 256/300\n",
      "4/4 [==============================] - 0s 11ms/step - loss: 0.0020 - accuracy: 1.0000 - val_loss: 0.0576 - val_accuracy: 0.9688\n",
      "Epoch 257/300\n",
      "4/4 [==============================] - 0s 12ms/step - loss: 0.0019 - accuracy: 1.0000 - val_loss: 0.0572 - val_accuracy: 0.9688\n",
      "Epoch 258/300\n",
      "4/4 [==============================] - 0s 12ms/step - loss: 0.0019 - accuracy: 1.0000 - val_loss: 0.0553 - val_accuracy: 0.9688\n",
      "Epoch 259/300\n",
      "4/4 [==============================] - 0s 11ms/step - loss: 0.0018 - accuracy: 1.0000 - val_loss: 0.0547 - val_accuracy: 0.9688\n",
      "Epoch 260/300\n",
      "4/4 [==============================] - 0s 12ms/step - loss: 0.0019 - accuracy: 1.0000 - val_loss: 0.0556 - val_accuracy: 0.9688\n",
      "Epoch 261/300\n",
      "4/4 [==============================] - 0s 12ms/step - loss: 0.0018 - accuracy: 1.0000 - val_loss: 0.0555 - val_accuracy: 0.9688\n",
      "Epoch 262/300\n",
      "4/4 [==============================] - 0s 12ms/step - loss: 0.0017 - accuracy: 1.0000 - val_loss: 0.0562 - val_accuracy: 0.9688\n",
      "Epoch 263/300\n",
      "4/4 [==============================] - 0s 11ms/step - loss: 0.0017 - accuracy: 1.0000 - val_loss: 0.0575 - val_accuracy: 0.9688\n",
      "Epoch 264/300\n",
      "4/4 [==============================] - 0s 12ms/step - loss: 0.0017 - accuracy: 1.0000 - val_loss: 0.0574 - val_accuracy: 0.9688\n",
      "Epoch 265/300\n",
      "4/4 [==============================] - 0s 12ms/step - loss: 0.0017 - accuracy: 1.0000 - val_loss: 0.0575 - val_accuracy: 0.9688\n",
      "Epoch 266/300\n",
      "4/4 [==============================] - 0s 12ms/step - loss: 0.0016 - accuracy: 1.0000 - val_loss: 0.0564 - val_accuracy: 0.9688\n",
      "Epoch 267/300\n",
      "4/4 [==============================] - 0s 12ms/step - loss: 0.0016 - accuracy: 1.0000 - val_loss: 0.0565 - val_accuracy: 0.9688\n",
      "Epoch 268/300\n",
      "4/4 [==============================] - 0s 12ms/step - loss: 0.0017 - accuracy: 1.0000 - val_loss: 0.0576 - val_accuracy: 0.9688\n",
      "Epoch 269/300\n",
      "4/4 [==============================] - 0s 11ms/step - loss: 0.0015 - accuracy: 1.0000 - val_loss: 0.0569 - val_accuracy: 0.9688\n",
      "Epoch 270/300\n",
      "4/4 [==============================] - 0s 11ms/step - loss: 0.0015 - accuracy: 1.0000 - val_loss: 0.0566 - val_accuracy: 0.9688\n",
      "Epoch 271/300\n",
      "4/4 [==============================] - 0s 12ms/step - loss: 0.0015 - accuracy: 1.0000 - val_loss: 0.0560 - val_accuracy: 0.9688\n",
      "Epoch 272/300\n",
      "4/4 [==============================] - 0s 11ms/step - loss: 0.0015 - accuracy: 1.0000 - val_loss: 0.0554 - val_accuracy: 0.9688\n",
      "Epoch 273/300\n",
      "4/4 [==============================] - 0s 11ms/step - loss: 0.0014 - accuracy: 1.0000 - val_loss: 0.0559 - val_accuracy: 0.9688\n",
      "Epoch 274/300\n",
      "4/4 [==============================] - 0s 13ms/step - loss: 0.0014 - accuracy: 1.0000 - val_loss: 0.0569 - val_accuracy: 0.9688\n",
      "Epoch 275/300\n",
      "4/4 [==============================] - 0s 12ms/step - loss: 0.0014 - accuracy: 1.0000 - val_loss: 0.0571 - val_accuracy: 0.9688\n",
      "Epoch 276/300\n",
      "4/4 [==============================] - 0s 12ms/step - loss: 0.0014 - accuracy: 1.0000 - val_loss: 0.0573 - val_accuracy: 0.9688\n",
      "Epoch 277/300\n",
      "4/4 [==============================] - 0s 13ms/step - loss: 0.0014 - accuracy: 1.0000 - val_loss: 0.0577 - val_accuracy: 0.9688\n",
      "Epoch 278/300\n",
      "4/4 [==============================] - 0s 12ms/step - loss: 0.0014 - accuracy: 1.0000 - val_loss: 0.0575 - val_accuracy: 0.9688\n",
      "Epoch 279/300\n",
      "4/4 [==============================] - 0s 12ms/step - loss: 0.0014 - accuracy: 1.0000 - val_loss: 0.0568 - val_accuracy: 0.9688\n",
      "Epoch 280/300\n",
      "4/4 [==============================] - 0s 12ms/step - loss: 0.0013 - accuracy: 1.0000 - val_loss: 0.0576 - val_accuracy: 0.9688\n",
      "Epoch 281/300\n",
      "1/4 [======>.......................] - ETA: 0s - loss: 0.0018 - accuracy: 1.0000Restoring model weights from the end of the best epoch: 251.\n",
      "4/4 [==============================] - 0s 14ms/step - loss: 0.0013 - accuracy: 1.0000 - val_loss: 0.0584 - val_accuracy: 0.9688\n",
      "Epoch 281: early stopping\n"
     ]
    }
   ],
   "source": [
    "es_callback = tf.keras.callbacks.EarlyStopping(patience=30, verbose=1, restore_best_weights=True)\n",
    "history = model.fit(X_train, y_train, batch_size=BATCH_SIZE, epochs=EPOCHS, \n",
    "                    validation_data=(X_val, y_val), callbacks=[es_callback])"
   ]
  },
  {
   "cell_type": "code",
   "execution_count": 24,
   "id": "f57f0f6b",
   "metadata": {
    "execution": {
     "iopub.execute_input": "2023-03-12T16:30:49.255311Z",
     "iopub.status.busy": "2023-03-12T16:30:49.253843Z",
     "iopub.status.idle": "2023-03-12T16:30:49.727052Z",
     "shell.execute_reply": "2023-03-12T16:30:49.725891Z"
    },
    "papermill": {
     "duration": 0.550866,
     "end_time": "2023-03-12T16:30:49.729917",
     "exception": false,
     "start_time": "2023-03-12T16:30:49.179051",
     "status": "completed"
    },
    "tags": []
   },
   "outputs": [
    {
     "data": {
      "image/png": "[encoded data removed]",
      "text/plain": [
       "<Figure size 640x480 with 1 Axes>"
      ]
     },
     "metadata": {},
     "output_type": "display_data"
    },
    {
     "data": {
      "image/png": "[encoded data removed]",
      "text/plain": [
       "<Figure size 640x480 with 1 Axes>"
      ]
     },
     "metadata": {},
     "output_type": "display_data"
    }
   ],
   "source": [
    "pd.DataFrame(history.history)[['accuracy', 'val_accuracy']].plot()\n",
    "pd.DataFrame(history.history)[['loss', 'val_loss']].plot()\n",
    "plt.show()"
   ]
  },
  {
   "cell_type": "code",
   "execution_count": 25,
   "id": "d2f3c103",
   "metadata": {
    "execution": {
     "iopub.execute_input": "2023-03-12T16:30:49.875344Z",
     "iopub.status.busy": "2023-03-12T16:30:49.874864Z",
     "iopub.status.idle": "2023-03-12T16:30:50.088287Z",
     "shell.execute_reply": "2023-03-12T16:30:50.087298Z"
    },
    "papermill": {
     "duration": 0.289731,
     "end_time": "2023-03-12T16:30:50.090865",
     "exception": false,
     "start_time": "2023-03-12T16:30:49.801134",
     "status": "completed"
    },
    "tags": []
   },
   "outputs": [
    {
     "name": "stdout",
     "output_type": "stream",
     "text": [
      "2/2 [==============================] - 0s 4ms/step - loss: 0.3578 - accuracy: 0.9487\n"
     ]
    },
    {
     "data": {
      "text/plain": [
       "[0.3577834367752075, 0.9487179517745972]"
      ]
     },
     "execution_count": 25,
     "metadata": {},
     "output_type": "execute_result"
    }
   ],
   "source": [
    "model.evaluate(X_test, y_test)"
   ]
  },
  {
   "cell_type": "markdown",
   "id": "5611525c",
   "metadata": {
    "papermill": {
     "duration": 0.073996,
     "end_time": "2023-03-12T16:30:50.241399",
     "exception": false,
     "start_time": "2023-03-12T16:30:50.167403",
     "status": "completed"
    },
    "tags": []
   },
   "source": [
    "# Using RF"
   ]
  },
  {
   "cell_type": "code",
   "execution_count": 26,
   "id": "3d1383dd",
   "metadata": {
    "execution": {
     "iopub.execute_input": "2023-03-12T16:30:50.389539Z",
     "iopub.status.busy": "2023-03-12T16:30:50.389074Z",
     "iopub.status.idle": "2023-03-12T16:30:50.398274Z",
     "shell.execute_reply": "2023-03-12T16:30:50.396944Z"
    },
    "papermill": {
     "duration": 0.085378,
     "end_time": "2023-03-12T16:30:50.400980",
     "exception": false,
     "start_time": "2023-03-12T16:30:50.315602",
     "status": "completed"
    },
    "tags": []
   },
   "outputs": [
    {
     "name": "stdout",
     "output_type": "stream",
     "text": [
      "/kaggle/input/parkinsons-disease-data-set/parkinsons.data\n"
     ]
    }
   ],
   "source": [
    "# This Python 3 environment comes with many helpful analytics libraries installed\n",
    "# It is defined by the kaggle/python Docker image: https://github.com/kaggle/docker-python\n",
    "# For example, here's several helpful packages to load\n",
    "\n",
    "import numpy as np # linear algebra\n",
    "import pandas as pd # data processing, CSV file I/O (e.g. pd.read_csv)\n",
    "\n",
    "# Input data files are available in the read-only \"../input/\" directory\n",
    "# For example, running this (by clicking run or pressing Shift+Enter) will list all files under the input directory\n",
    "\n",
    "import os\n",
    "for dirname, _, filenames in os.walk('/kaggle/input'):\n",
    "    for filename in filenames:\n",
    "        print(os.path.join(dirname, filename))\n",
    "\n",
    "# You can write up to 20GB to the current directory (/kaggle/working/) that gets preserved as output when you create a version using \"Save & Run All\" \n",
    "# You can also write temporary files to /kaggle/temp/, but they won't be saved outside of the current session\n"
   ]
  },
  {
   "cell_type": "code",
   "execution_count": 27,
   "id": "3b3fc16e",
   "metadata": {
    "execution": {
     "iopub.execute_input": "2023-03-12T16:30:50.549561Z",
     "iopub.status.busy": "2023-03-12T16:30:50.549089Z",
     "iopub.status.idle": "2023-03-12T16:30:50.764286Z",
     "shell.execute_reply": "2023-03-12T16:30:50.762946Z"
    },
    "papermill": {
     "duration": 0.292898,
     "end_time": "2023-03-12T16:30:50.767097",
     "exception": false,
     "start_time": "2023-03-12T16:30:50.474199",
     "status": "completed"
    },
    "tags": []
   },
   "outputs": [],
   "source": [
    "import numpy as np\n",
    "import pandas as pd\n",
    "import matplotlib.pyplot as plt\n",
    "import seaborn as sns\n",
    "\n",
    "from sklearn.preprocessing import MinMaxScaler\n",
    "from sklearn.metrics import confusion_matrix,accuracy_score, classification_report\n",
    "\n",
    "from sklearn.linear_model import LogisticRegression\n",
    "from sklearn.tree import DecisionTreeClassifier\n",
    "from sklearn.ensemble import RandomForestClassifier\n",
    "from sklearn.ensemble import GradientBoostingClassifier\n",
    "import xgboost as xgb\n",
    "\n",
    "import warnings\n",
    "warnings.filterwarnings('ignore')"
   ]
  },
  {
   "cell_type": "code",
   "execution_count": 28,
   "id": "da87be85",
   "metadata": {
    "execution": {
     "iopub.execute_input": "2023-03-12T16:30:50.916093Z",
     "iopub.status.busy": "2023-03-12T16:30:50.915649Z",
     "iopub.status.idle": "2023-03-12T16:30:50.949920Z",
     "shell.execute_reply": "2023-03-12T16:30:50.948987Z"
    },
    "papermill": {
     "duration": 0.113856,
     "end_time": "2023-03-12T16:30:50.952959",
     "exception": false,
     "start_time": "2023-03-12T16:30:50.839103",
     "status": "completed"
    },
    "tags": []
   },
   "outputs": [
    {
     "name": "stdout",
     "output_type": "stream",
     "text": [
      "(195, 24) \n",
      "\n"
     ]
    },
    {
     "data": {
      "text/html": [
       "<div>\n",
       "<style scoped>\n",
       "    .dataframe tbody tr th:only-of-type {\n",
       "        vertical-align: middle;\n",
       "    }\n",
       "\n",
       "    .dataframe tbody tr th {\n",
       "        vertical-align: top;\n",
       "    }\n",
       "\n",
       "    .dataframe thead th {\n",
       "        text-align: right;\n",
       "    }\n",
       "</style>\n",
       "<table border=\"1\" class=\"dataframe\">\n",
       "  <thead>\n",
       "    <tr style=\"text-align: right;\">\n",
       "      <th></th>\n",
       "      <th>name</th>\n",
       "      <th>MDVP:Fo(Hz)</th>\n",
       "      <th>MDVP:Fhi(Hz)</th>\n",
       "      <th>MDVP:Flo(Hz)</th>\n",
       "      <th>MDVP:Jitter(%)</th>\n",
       "      <th>MDVP:Jitter(Abs)</th>\n",
       "      <th>MDVP:RAP</th>\n",
       "      <th>MDVP:PPQ</th>\n",
       "      <th>Jitter:DDP</th>\n",
       "      <th>MDVP:Shimmer</th>\n",
       "      <th>...</th>\n",
       "      <th>Shimmer:DDA</th>\n",
       "      <th>NHR</th>\n",
       "      <th>HNR</th>\n",
       "      <th>status</th>\n",
       "      <th>RPDE</th>\n",
       "      <th>DFA</th>\n",
       "      <th>spread1</th>\n",
       "      <th>spread2</th>\n",
       "      <th>D2</th>\n",
       "      <th>PPE</th>\n",
       "    </tr>\n",
       "  </thead>\n",
       "  <tbody>\n",
       "    <tr>\n",
       "      <th>0</th>\n",
       "      <td>phon_R01_S01_1</td>\n",
       "      <td>119.992</td>\n",
       "      <td>157.302</td>\n",
       "      <td>74.997</td>\n",
       "      <td>0.00784</td>\n",
       "      <td>0.00007</td>\n",
       "      <td>0.00370</td>\n",
       "      <td>0.00554</td>\n",
       "      <td>0.01109</td>\n",
       "      <td>0.04374</td>\n",
       "      <td>...</td>\n",
       "      <td>0.06545</td>\n",
       "      <td>0.02211</td>\n",
       "      <td>21.033</td>\n",
       "      <td>1</td>\n",
       "      <td>0.414783</td>\n",
       "      <td>0.815285</td>\n",
       "      <td>-4.813031</td>\n",
       "      <td>0.266482</td>\n",
       "      <td>2.301442</td>\n",
       "      <td>0.284654</td>\n",
       "    </tr>\n",
       "    <tr>\n",
       "      <th>1</th>\n",
       "      <td>phon_R01_S01_2</td>\n",
       "      <td>122.400</td>\n",
       "      <td>148.650</td>\n",
       "      <td>113.819</td>\n",
       "      <td>0.00968</td>\n",
       "      <td>0.00008</td>\n",
       "      <td>0.00465</td>\n",
       "      <td>0.00696</td>\n",
       "      <td>0.01394</td>\n",
       "      <td>0.06134</td>\n",
       "      <td>...</td>\n",
       "      <td>0.09403</td>\n",
       "      <td>0.01929</td>\n",
       "      <td>19.085</td>\n",
       "      <td>1</td>\n",
       "      <td>0.458359</td>\n",
       "      <td>0.819521</td>\n",
       "      <td>-4.075192</td>\n",
       "      <td>0.335590</td>\n",
       "      <td>2.486855</td>\n",
       "      <td>0.368674</td>\n",
       "    </tr>\n",
       "    <tr>\n",
       "      <th>2</th>\n",
       "      <td>phon_R01_S01_3</td>\n",
       "      <td>116.682</td>\n",
       "      <td>131.111</td>\n",
       "      <td>111.555</td>\n",
       "      <td>0.01050</td>\n",
       "      <td>0.00009</td>\n",
       "      <td>0.00544</td>\n",
       "      <td>0.00781</td>\n",
       "      <td>0.01633</td>\n",
       "      <td>0.05233</td>\n",
       "      <td>...</td>\n",
       "      <td>0.08270</td>\n",
       "      <td>0.01309</td>\n",
       "      <td>20.651</td>\n",
       "      <td>1</td>\n",
       "      <td>0.429895</td>\n",
       "      <td>0.825288</td>\n",
       "      <td>-4.443179</td>\n",
       "      <td>0.311173</td>\n",
       "      <td>2.342259</td>\n",
       "      <td>0.332634</td>\n",
       "    </tr>\n",
       "    <tr>\n",
       "      <th>3</th>\n",
       "      <td>phon_R01_S01_4</td>\n",
       "      <td>116.676</td>\n",
       "      <td>137.871</td>\n",
       "      <td>111.366</td>\n",
       "      <td>0.00997</td>\n",
       "      <td>0.00009</td>\n",
       "      <td>0.00502</td>\n",
       "      <td>0.00698</td>\n",
       "      <td>0.01505</td>\n",
       "      <td>0.05492</td>\n",
       "      <td>...</td>\n",
       "      <td>0.08771</td>\n",
       "      <td>0.01353</td>\n",
       "      <td>20.644</td>\n",
       "      <td>1</td>\n",
       "      <td>0.434969</td>\n",
       "      <td>0.819235</td>\n",
       "      <td>-4.117501</td>\n",
       "      <td>0.334147</td>\n",
       "      <td>2.405554</td>\n",
       "      <td>0.368975</td>\n",
       "    </tr>\n",
       "    <tr>\n",
       "      <th>4</th>\n",
       "      <td>phon_R01_S01_5</td>\n",
       "      <td>116.014</td>\n",
       "      <td>141.781</td>\n",
       "      <td>110.655</td>\n",
       "      <td>0.01284</td>\n",
       "      <td>0.00011</td>\n",
       "      <td>0.00655</td>\n",
       "      <td>0.00908</td>\n",
       "      <td>0.01966</td>\n",
       "      <td>0.06425</td>\n",
       "      <td>...</td>\n",
       "      <td>0.10470</td>\n",
       "      <td>0.01767</td>\n",
       "      <td>19.649</td>\n",
       "      <td>1</td>\n",
       "      <td>0.417356</td>\n",
       "      <td>0.823484</td>\n",
       "      <td>-3.747787</td>\n",
       "      <td>0.234513</td>\n",
       "      <td>2.332180</td>\n",
       "      <td>0.410335</td>\n",
       "    </tr>\n",
       "  </tbody>\n",
       "</table>\n",
       "<p>5 rows × 24 columns</p>\n",
       "</div>"
      ],
      "text/plain": [
       "             name  MDVP:Fo(Hz)  MDVP:Fhi(Hz)  MDVP:Flo(Hz)  MDVP:Jitter(%)  \\\n",
       "0  phon_R01_S01_1      119.992       157.302        74.997         0.00784   \n",
       "1  phon_R01_S01_2      122.400       148.650       113.819         0.00968   \n",
       "2  phon_R01_S01_3      116.682       131.111       111.555         0.01050   \n",
       "3  phon_R01_S01_4      116.676       137.871       111.366         0.00997   \n",
       "4  phon_R01_S01_5      116.014       141.781       110.655         0.01284   \n",
       "\n",
       "   MDVP:Jitter(Abs)  MDVP:RAP  MDVP:PPQ  Jitter:DDP  MDVP:Shimmer  ...  \\\n",
       "0           0.00007   0.00370   0.00554     0.01109       0.04374  ...   \n",
       "1           0.00008   0.00465   0.00696     0.01394       0.06134  ...   \n",
       "2           0.00009   0.00544   0.00781     0.01633       0.05233  ...   \n",
       "3           0.00009   0.00502   0.00698     0.01505       0.05492  ...   \n",
       "4           0.00011   0.00655   0.00908     0.01966       0.06425  ...   \n",
       "\n",
       "   Shimmer:DDA      NHR     HNR  status      RPDE       DFA   spread1  \\\n",
       "0      0.06545  0.02211  21.033       1  0.414783  0.815285 -4.813031   \n",
       "1      0.09403  0.01929  19.085       1  0.458359  0.819521 -4.075192   \n",
       "2      0.08270  0.01309  20.651       1  0.429895  0.825288 -4.443179   \n",
       "3      0.08771  0.01353  20.644       1  0.434969  0.819235 -4.117501   \n",
       "4      0.10470  0.01767  19.649       1  0.417356  0.823484 -3.747787   \n",
       "\n",
       "    spread2        D2       PPE  \n",
       "0  0.266482  2.301442  0.284654  \n",
       "1  0.335590  2.486855  0.368674  \n",
       "2  0.311173  2.342259  0.332634  \n",
       "3  0.334147  2.405554  0.368975  \n",
       "4  0.234513  2.332180  0.410335  \n",
       "\n",
       "[5 rows x 24 columns]"
      ]
     },
     "execution_count": 28,
     "metadata": {},
     "output_type": "execute_result"
    }
   ],
   "source": [
    "#  let’s read the data into a DataFrame \n",
    "\n",
    "#Read the data\n",
    "df=pd.read_csv('../input/parkinsons-disease-data-set/parkinsons.data')\n",
    "print(df.shape,'\\n')\n",
    "df.head()"
   ]
  },
  {
   "cell_type": "code",
   "execution_count": 29,
   "id": "2d954c43",
   "metadata": {
    "execution": {
     "iopub.execute_input": "2023-03-12T16:30:51.101533Z",
     "iopub.status.busy": "2023-03-12T16:30:51.101056Z",
     "iopub.status.idle": "2023-03-12T16:30:51.109388Z",
     "shell.execute_reply": "2023-03-12T16:30:51.108284Z"
    },
    "papermill": {
     "duration": 0.084536,
     "end_time": "2023-03-12T16:30:51.112126",
     "exception": false,
     "start_time": "2023-03-12T16:30:51.027590",
     "status": "completed"
    },
    "tags": []
   },
   "outputs": [
    {
     "name": "stdout",
     "output_type": "stream",
     "text": [
      "Original shape of data:  (195, 24)\n",
      "Featues shape: (195, 22)\n",
      "Target shape:  (195,)\n"
     ]
    }
   ],
   "source": [
    "print(\"Original shape of data: \", df.shape)\n",
    "x = df.drop(['status','name'], axis=1)\n",
    "print(\"Featues shape:\", x.shape)\n",
    "y = df.status\n",
    "print(\"Target shape: \", y.shape)"
   ]
  },
  {
   "cell_type": "code",
   "execution_count": 30,
   "id": "ed462ec2",
   "metadata": {
    "execution": {
     "iopub.execute_input": "2023-03-12T16:30:51.260711Z",
     "iopub.status.busy": "2023-03-12T16:30:51.260259Z",
     "iopub.status.idle": "2023-03-12T16:30:51.270771Z",
     "shell.execute_reply": "2023-03-12T16:30:51.269340Z"
    },
    "papermill": {
     "duration": 0.088468,
     "end_time": "2023-03-12T16:30:51.273125",
     "exception": false,
     "start_time": "2023-03-12T16:30:51.184657",
     "status": "completed"
    },
    "tags": []
   },
   "outputs": [],
   "source": [
    "scaler = MinMaxScaler((-1, 1))\n",
    "\n",
    "# fits the data normally \n",
    "X = scaler.fit_transform(x) "
   ]
  },
  {
   "cell_type": "code",
   "execution_count": 31,
   "id": "d504305a",
   "metadata": {
    "execution": {
     "iopub.execute_input": "2023-03-12T16:30:51.425034Z",
     "iopub.status.busy": "2023-03-12T16:30:51.424590Z",
     "iopub.status.idle": "2023-03-12T16:30:51.431893Z",
     "shell.execute_reply": "2023-03-12T16:30:51.430717Z"
    },
    "papermill": {
     "duration": 0.08757,
     "end_time": "2023-03-12T16:30:51.434438",
     "exception": false,
     "start_time": "2023-03-12T16:30:51.346868",
     "status": "completed"
    },
    "tags": []
   },
   "outputs": [],
   "source": [
    "from sklearn.model_selection import train_test_split\n",
    "x_train, x_test, y_train, y_test=train_test_split(X, y, test_size=0.2) "
   ]
  },
  {
   "cell_type": "code",
   "execution_count": 32,
   "id": "4e9d1e82",
   "metadata": {
    "execution": {
     "iopub.execute_input": "2023-03-12T16:30:51.662821Z",
     "iopub.status.busy": "2023-03-12T16:30:51.662377Z",
     "iopub.status.idle": "2023-03-12T16:30:51.682952Z",
     "shell.execute_reply": "2023-03-12T16:30:51.682090Z"
    },
    "papermill": {
     "duration": 0.177419,
     "end_time": "2023-03-12T16:30:51.685247",
     "exception": false,
     "start_time": "2023-03-12T16:30:51.507828",
     "status": "completed"
    },
    "tags": []
   },
   "outputs": [
    {
     "data": {
      "text/plain": [
       "LogisticRegression()"
      ]
     },
     "execution_count": 32,
     "metadata": {},
     "output_type": "execute_result"
    }
   ],
   "source": [
    "clf = LogisticRegression()\n",
    "\n",
    "#Train Model\n",
    "clf.fit(x_train, y_train)"
   ]
  },
  {
   "cell_type": "code",
   "execution_count": 33,
   "id": "db63882f",
   "metadata": {
    "execution": {
     "iopub.execute_input": "2023-03-12T16:30:51.832460Z",
     "iopub.status.busy": "2023-03-12T16:30:51.831982Z",
     "iopub.status.idle": "2023-03-12T16:30:51.838020Z",
     "shell.execute_reply": "2023-03-12T16:30:51.836802Z"
    },
    "papermill": {
     "duration": 0.082639,
     "end_time": "2023-03-12T16:30:51.840582",
     "exception": false,
     "start_time": "2023-03-12T16:30:51.757943",
     "status": "completed"
    },
    "tags": []
   },
   "outputs": [],
   "source": [
    "# Prediction on Test and Train Set \n",
    "pred_logistic_test = clf.predict(x_test)\n",
    "pred_logistic_train = clf.predict(x_train)"
   ]
  },
  {
   "cell_type": "code",
   "execution_count": 34,
   "id": "f2188b68",
   "metadata": {
    "execution": {
     "iopub.execute_input": "2023-03-12T16:30:51.988883Z",
     "iopub.status.busy": "2023-03-12T16:30:51.988377Z",
     "iopub.status.idle": "2023-03-12T16:30:51.996883Z",
     "shell.execute_reply": "2023-03-12T16:30:51.995096Z"
    },
    "papermill": {
     "duration": 0.086476,
     "end_time": "2023-03-12T16:30:52.000829",
     "exception": false,
     "start_time": "2023-03-12T16:30:51.914353",
     "status": "completed"
    },
    "tags": []
   },
   "outputs": [
    {
     "name": "stdout",
     "output_type": "stream",
     "text": [
      "Training Accuracy:  0.8589743589743589\n",
      "Test Accuracy:  0.8974358974358975\n"
     ]
    }
   ],
   "source": [
    "print(\"Training Accuracy: \", accuracy_score(y_train, pred_logistic_train))\n",
    "print(\"Test Accuracy: \", accuracy_score(y_test, pred_logistic_test))"
   ]
  },
  {
   "cell_type": "code",
   "execution_count": 35,
   "id": "0b975a40",
   "metadata": {
    "execution": {
     "iopub.execute_input": "2023-03-12T16:30:52.150712Z",
     "iopub.status.busy": "2023-03-12T16:30:52.150231Z",
     "iopub.status.idle": "2023-03-12T16:30:52.448173Z",
     "shell.execute_reply": "2023-03-12T16:30:52.446865Z"
    },
    "papermill": {
     "duration": 0.37537,
     "end_time": "2023-03-12T16:30:52.450956",
     "exception": false,
     "start_time": "2023-03-12T16:30:52.075586",
     "status": "completed"
    },
    "tags": []
   },
   "outputs": [
    {
     "name": "stdout",
     "output_type": "stream",
     "text": [
      "Confusion Matrix: \n",
      "\n",
      "Classification Report:\n",
      "              precision    recall  f1-score   support\n",
      "\n",
      "           0       1.00      0.43      0.60         7\n",
      "           1       0.89      1.00      0.94        32\n",
      "\n",
      "    accuracy                           0.90        39\n",
      "   macro avg       0.94      0.71      0.77        39\n",
      "weighted avg       0.91      0.90      0.88        39\n",
      "\n"
     ]
    },
    {
     "data": {
      "text/plain": [
       "<AxesSubplot:>"
      ]
     },
     "execution_count": 35,
     "metadata": {},
     "output_type": "execute_result"
    },
    {
     "data": {
      "image/png": "[encoded data removed]",
      "text/plain": [
       "<Figure size 640x480 with 2 Axes>"
      ]
     },
     "metadata": {},
     "output_type": "display_data"
    }
   ],
   "source": [
    "print(\"Confusion Matrix: \")\n",
    "cf_matrix=confusion_matrix(y_test, pred_logistic_test)\n",
    "\n",
    "print(\"\\nClassification Report:\")\n",
    "print(classification_report(y_test, pred_logistic_test))\n",
    "\n",
    "\n",
    "import seaborn as sns\n",
    "sns.heatmap(cf_matrix, annot=True)"
   ]
  },
  {
   "cell_type": "code",
   "execution_count": 36,
   "id": "cd6ff5a1",
   "metadata": {
    "execution": {
     "iopub.execute_input": "2023-03-12T16:30:52.625303Z",
     "iopub.status.busy": "2023-03-12T16:30:52.624849Z",
     "iopub.status.idle": "2023-03-12T16:30:52.636598Z",
     "shell.execute_reply": "2023-03-12T16:30:52.635422Z"
    },
    "papermill": {
     "duration": 0.09015,
     "end_time": "2023-03-12T16:30:52.639216",
     "exception": false,
     "start_time": "2023-03-12T16:30:52.549066",
     "status": "completed"
    },
    "tags": []
   },
   "outputs": [
    {
     "data": {
      "text/plain": [
       "DecisionTreeClassifier()"
      ]
     },
     "execution_count": 36,
     "metadata": {},
     "output_type": "execute_result"
    }
   ],
   "source": [
    "dt = DecisionTreeClassifier()\n",
    "\n",
    "# Train model \n",
    "dt.fit(x_train, y_train)"
   ]
  },
  {
   "cell_type": "code",
   "execution_count": 37,
   "id": "58c3ebf7",
   "metadata": {
    "execution": {
     "iopub.execute_input": "2023-03-12T16:30:52.789625Z",
     "iopub.status.busy": "2023-03-12T16:30:52.789140Z",
     "iopub.status.idle": "2023-03-12T16:30:52.795941Z",
     "shell.execute_reply": "2023-03-12T16:30:52.794563Z"
    },
    "papermill": {
     "duration": 0.085291,
     "end_time": "2023-03-12T16:30:52.798530",
     "exception": false,
     "start_time": "2023-03-12T16:30:52.713239",
     "status": "completed"
    },
    "tags": []
   },
   "outputs": [],
   "source": [
    "pred_dt_test = dt.predict(x_test)\n",
    "pred_dt_train = dt.predict(x_train)"
   ]
  },
  {
   "cell_type": "code",
   "execution_count": 38,
   "id": "706386d6",
   "metadata": {
    "execution": {
     "iopub.execute_input": "2023-03-12T16:30:52.951473Z",
     "iopub.status.busy": "2023-03-12T16:30:52.950993Z",
     "iopub.status.idle": "2023-03-12T16:30:52.960141Z",
     "shell.execute_reply": "2023-03-12T16:30:52.958562Z"
    },
    "papermill": {
     "duration": 0.08878,
     "end_time": "2023-03-12T16:30:52.962803",
     "exception": false,
     "start_time": "2023-03-12T16:30:52.874023",
     "status": "completed"
    },
    "tags": []
   },
   "outputs": [
    {
     "name": "stdout",
     "output_type": "stream",
     "text": [
      "Training Accuracy:  1.0\n",
      "Test Accuracy:  0.9230769230769231\n"
     ]
    }
   ],
   "source": [
    "print(\"Training Accuracy: \", accuracy_score(y_train, pred_dt_train))\n",
    "print(\"Test Accuracy: \", accuracy_score(y_test, pred_dt_test))"
   ]
  },
  {
   "cell_type": "code",
   "execution_count": 39,
   "id": "20584085",
   "metadata": {
    "execution": {
     "iopub.execute_input": "2023-03-12T16:30:53.117549Z",
     "iopub.status.busy": "2023-03-12T16:30:53.117074Z",
     "iopub.status.idle": "2023-03-12T16:30:53.401922Z",
     "shell.execute_reply": "2023-03-12T16:30:53.401007Z"
    },
    "papermill": {
     "duration": 0.367461,
     "end_time": "2023-03-12T16:30:53.404354",
     "exception": false,
     "start_time": "2023-03-12T16:30:53.036893",
     "status": "completed"
    },
    "tags": []
   },
   "outputs": [
    {
     "name": "stdout",
     "output_type": "stream",
     "text": [
      "Confusion Matrix: \n",
      "\n",
      "Classification Report:\n",
      "              precision    recall  f1-score   support\n",
      "\n",
      "           0       0.83      0.71      0.77         7\n",
      "           1       0.94      0.97      0.95        32\n",
      "\n",
      "    accuracy                           0.92        39\n",
      "   macro avg       0.89      0.84      0.86        39\n",
      "weighted avg       0.92      0.92      0.92        39\n",
      "\n"
     ]
    },
    {
     "data": {
      "text/plain": [
       "<AxesSubplot:>"
      ]
     },
     "execution_count": 39,
     "metadata": {},
     "output_type": "execute_result"
    },
    {
     "data": {
      "image/png": "[encoded data removed]",
      "text/plain": [
       "<Figure size 640x480 with 2 Axes>"
      ]
     },
     "metadata": {},
     "output_type": "display_data"
    }
   ],
   "source": [
    "print(\"Confusion Matrix: \")\n",
    "cf_matrix=confusion_matrix(y_test, pred_dt_test)\n",
    "\n",
    "print(\"\\nClassification Report:\")\n",
    "print(classification_report(y_test, pred_dt_test))\n",
    "\n",
    "\n",
    "import seaborn as sns\n",
    "sns.heatmap(cf_matrix, annot=True)"
   ]
  },
  {
   "cell_type": "code",
   "execution_count": 40,
   "id": "b7a215be",
   "metadata": {
    "execution": {
     "iopub.execute_input": "2023-03-12T16:30:53.552828Z",
     "iopub.status.busy": "2023-03-12T16:30:53.552028Z",
     "iopub.status.idle": "2023-03-12T16:30:53.565011Z",
     "shell.execute_reply": "2023-03-12T16:30:53.562235Z"
    },
    "papermill": {
     "duration": 0.091269,
     "end_time": "2023-03-12T16:30:53.569052",
     "exception": false,
     "start_time": "2023-03-12T16:30:53.477783",
     "status": "completed"
    },
    "tags": []
   },
   "outputs": [
    {
     "name": "stdout",
     "output_type": "stream",
     "text": [
      "Confusion Matrix: \n",
      "[[ 5  2]\n",
      " [ 1 31]]\n",
      "\n",
      "Classification Report:\n",
      "              precision    recall  f1-score   support\n",
      "\n",
      "           0       0.83      0.71      0.77         7\n",
      "           1       0.94      0.97      0.95        32\n",
      "\n",
      "    accuracy                           0.92        39\n",
      "   macro avg       0.89      0.84      0.86        39\n",
      "weighted avg       0.92      0.92      0.92        39\n",
      "\n"
     ]
    }
   ],
   "source": [
    "print(\"Confusion Matrix: \")\n",
    "print(confusion_matrix(y_test, pred_dt_test))\n",
    "\n",
    "print(\"\\nClassification Report:\")\n",
    "print(classification_report(y_test, pred_dt_test))"
   ]
  },
  {
   "cell_type": "code",
   "execution_count": 41,
   "id": "84779de3",
   "metadata": {
    "execution": {
     "iopub.execute_input": "2023-03-12T16:30:53.718864Z",
     "iopub.status.busy": "2023-03-12T16:30:53.718370Z",
     "iopub.status.idle": "2023-03-12T16:30:53.895745Z",
     "shell.execute_reply": "2023-03-12T16:30:53.894282Z"
    },
    "papermill": {
     "duration": 0.254825,
     "end_time": "2023-03-12T16:30:53.898117",
     "exception": false,
     "start_time": "2023-03-12T16:30:53.643292",
     "status": "completed"
    },
    "tags": []
   },
   "outputs": [
    {
     "data": {
      "text/plain": [
       "RandomForestClassifier()"
      ]
     },
     "execution_count": 41,
     "metadata": {},
     "output_type": "execute_result"
    }
   ],
   "source": [
    "rf = RandomForestClassifier()\n",
    "rf.fit(x_train, y_train)"
   ]
  },
  {
   "cell_type": "code",
   "execution_count": 42,
   "id": "79d11000",
   "metadata": {
    "execution": {
     "iopub.execute_input": "2023-03-12T16:30:54.063303Z",
     "iopub.status.busy": "2023-03-12T16:30:54.061964Z",
     "iopub.status.idle": "2023-03-12T16:30:54.094055Z",
     "shell.execute_reply": "2023-03-12T16:30:54.093109Z"
    },
    "papermill": {
     "duration": 0.123811,
     "end_time": "2023-03-12T16:30:54.096641",
     "exception": false,
     "start_time": "2023-03-12T16:30:53.972830",
     "status": "completed"
    },
    "tags": []
   },
   "outputs": [],
   "source": [
    "train_pred_rf = rf.predict(x_train)\n",
    "pred_rf = rf.predict(x_test)"
   ]
  },
  {
   "cell_type": "code",
   "execution_count": 43,
   "id": "fe37cbc1",
   "metadata": {
    "execution": {
     "iopub.execute_input": "2023-03-12T16:30:54.263788Z",
     "iopub.status.busy": "2023-03-12T16:30:54.263288Z",
     "iopub.status.idle": "2023-03-12T16:30:54.274800Z",
     "shell.execute_reply": "2023-03-12T16:30:54.273420Z"
    },
    "papermill": {
     "duration": 0.101657,
     "end_time": "2023-03-12T16:30:54.277490",
     "exception": false,
     "start_time": "2023-03-12T16:30:54.175833",
     "status": "completed"
    },
    "tags": []
   },
   "outputs": [
    {
     "name": "stdout",
     "output_type": "stream",
     "text": [
      "Training Accuracy:  1.0\n",
      "Test Accuracy:  0.9487179487179487\n"
     ]
    }
   ],
   "source": [
    "print(\"Training Accuracy: \",accuracy_score(y_train, train_pred_rf))\n",
    "print(\"Test Accuracy: \",accuracy_score(y_test, pred_rf))"
   ]
  },
  {
   "cell_type": "code",
   "execution_count": 44,
   "id": "1a1f9fcd",
   "metadata": {
    "execution": {
     "iopub.execute_input": "2023-03-12T16:30:54.431872Z",
     "iopub.status.busy": "2023-03-12T16:30:54.431377Z",
     "iopub.status.idle": "2023-03-12T16:30:54.446040Z",
     "shell.execute_reply": "2023-03-12T16:30:54.444330Z"
    },
    "papermill": {
     "duration": 0.094454,
     "end_time": "2023-03-12T16:30:54.448529",
     "exception": false,
     "start_time": "2023-03-12T16:30:54.354075",
     "status": "completed"
    },
    "tags": []
   },
   "outputs": [
    {
     "name": "stdout",
     "output_type": "stream",
     "text": [
      "Confusion Matrix: \n",
      "\n",
      "Classification Report:\n",
      "              precision    recall  f1-score   support\n",
      "\n",
      "           0       1.00      0.71      0.83         7\n",
      "           1       0.94      1.00      0.97        32\n",
      "\n",
      "    accuracy                           0.95        39\n",
      "   macro avg       0.97      0.86      0.90        39\n",
      "weighted avg       0.95      0.95      0.95        39\n",
      "\n"
     ]
    }
   ],
   "source": [
    "print(\"Confusion Matrix: \")\n",
    "cf_matrix=confusion_matrix(y_test, pred_rf)\n",
    "\n",
    "print(\"\\nClassification Report:\")\n",
    "print(classification_report(y_test, pred_rf))"
   ]
  },
  {
   "cell_type": "code",
   "execution_count": 45,
   "id": "10044ac0",
   "metadata": {
    "execution": {
     "iopub.execute_input": "2023-03-12T16:30:54.601316Z",
     "iopub.status.busy": "2023-03-12T16:30:54.600142Z",
     "iopub.status.idle": "2023-03-12T16:30:54.864591Z",
     "shell.execute_reply": "2023-03-12T16:30:54.863411Z"
    },
    "papermill": {
     "duration": 0.343444,
     "end_time": "2023-03-12T16:30:54.867271",
     "exception": false,
     "start_time": "2023-03-12T16:30:54.523827",
     "status": "completed"
    },
    "tags": []
   },
   "outputs": [
    {
     "data": {
      "text/plain": [
       "<AxesSubplot:>"
      ]
     },
     "execution_count": 45,
     "metadata": {},
     "output_type": "execute_result"
    },
    {
     "data": {
      "image/png": "[encoded data removed]",
      "text/plain": [
       "<Figure size 640x480 with 2 Axes>"
      ]
     },
     "metadata": {},
     "output_type": "display_data"
    }
   ],
   "source": [
    "\n",
    "import seaborn as sns\n",
    "sns.heatmap(cf_matrix, annot=True)"
   ]
  },
  {
   "cell_type": "code",
   "execution_count": null,
   "id": "762daed7",
   "metadata": {
    "papermill": {
     "duration": 0.074356,
     "end_time": "2023-03-12T16:30:55.015288",
     "exception": false,
     "start_time": "2023-03-12T16:30:54.940932",
     "status": "completed"
    },
    "tags": []
   },
   "outputs": [],
   "source": []
  },
  {
   "cell_type": "code",
   "execution_count": null,
   "id": "d80918fb",
   "metadata": {
    "papermill": {
     "duration": 0.0742,
     "end_time": "2023-03-12T16:30:55.163964",
     "exception": false,
     "start_time": "2023-03-12T16:30:55.089764",
     "status": "completed"
    },
    "tags": []
   },
   "outputs": [],
   "source": []
  }
 ],
 "metadata": {
  "kernelspec": {
   "display_name": "Python 3 (ipykernel)",
   "language": "python",
   "name": "python3"
  },
  "language_info": {
   "codemirror_mode": {
    "name": "ipython",
    "version": 3
   },
   "file_extension": ".py",
   "mimetype": "text/x-python",
   "name": "python",
   "nbconvert_exporter": "python",
   "pygments_lexer": "ipython3",
   "version": "3.9.13"
  },
  "papermill": {
   "default_parameters": {},
   "duration": 47.745237,
   "end_time": "2023-03-12T16:30:58.242547",
   "environment_variables": {},
   "exception": null,
   "input_path": "__notebook__.ipynb",
   "output_path": "__notebook__.ipynb",
   "parameters": {},
   "start_time": "2023-03-12T16:30:10.497310",
   "version": "2.3.4"
  }
 },
 "nbformat": 4,
 "nbformat_minor": 5
}
